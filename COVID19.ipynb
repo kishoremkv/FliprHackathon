{
 "cells": [
  {
   "cell_type": "markdown",
   "metadata": {},
   "source": [
    "Importing the requried libraries"
   ]
  },
  {
   "cell_type": "code",
   "execution_count": 1,
   "metadata": {},
   "outputs": [],
   "source": [
    "import numpy as np\n",
    "import pandas as pd\n",
    "from sklearn import preprocessing\n",
    "import matplotlib.pyplot as plt \n",
    "plt.rc(\"font\", size=14)\n",
    "import seaborn as sns\n",
    "sns.set(style=\"white\") \n",
    "sns.set(style=\"whitegrid\", color_codes=True)\n",
    "import warnings\n",
    "warnings.simplefilter(action='ignore')"
   ]
  },
  {
   "cell_type": "code",
   "execution_count": 2,
   "metadata": {},
   "outputs": [],
   "source": [
    "#reading the Train_dataset.xlsx file\n",
    "df= pd.read_excel('Train_dataset.xlsx')\n"
   ]
  },
  {
   "cell_type": "code",
   "execution_count": 3,
   "metadata": {},
   "outputs": [
    {
     "data": {
      "text/html": [
       "<div>\n",
       "<style scoped>\n",
       "    .dataframe tbody tr th:only-of-type {\n",
       "        vertical-align: middle;\n",
       "    }\n",
       "\n",
       "    .dataframe tbody tr th {\n",
       "        vertical-align: top;\n",
       "    }\n",
       "\n",
       "    .dataframe thead th {\n",
       "        text-align: right;\n",
       "    }\n",
       "</style>\n",
       "<table border=\"1\" class=\"dataframe\">\n",
       "  <thead>\n",
       "    <tr style=\"text-align: right;\">\n",
       "      <th></th>\n",
       "      <th>people_ID</th>\n",
       "      <th>Region</th>\n",
       "      <th>Gender</th>\n",
       "      <th>Designation</th>\n",
       "      <th>Name</th>\n",
       "      <th>Married</th>\n",
       "      <th>Children</th>\n",
       "      <th>Occupation</th>\n",
       "      <th>Mode_transport</th>\n",
       "      <th>cases/1M</th>\n",
       "      <th>...</th>\n",
       "      <th>HBB</th>\n",
       "      <th>d-dimer</th>\n",
       "      <th>Heart rate</th>\n",
       "      <th>HDL cholesterol</th>\n",
       "      <th>Charlson Index</th>\n",
       "      <th>Blood Glucose</th>\n",
       "      <th>Insurance</th>\n",
       "      <th>salary</th>\n",
       "      <th>FT/month</th>\n",
       "      <th>Infect_Prob</th>\n",
       "    </tr>\n",
       "  </thead>\n",
       "  <tbody>\n",
       "    <tr>\n",
       "      <th>0</th>\n",
       "      <td>1</td>\n",
       "      <td>Bhubaneshwar</td>\n",
       "      <td>Female</td>\n",
       "      <td>Mrs</td>\n",
       "      <td>mansi</td>\n",
       "      <td>YES</td>\n",
       "      <td>1.0</td>\n",
       "      <td>Farmer</td>\n",
       "      <td>Public</td>\n",
       "      <td>2</td>\n",
       "      <td>...</td>\n",
       "      <td>93.0</td>\n",
       "      <td>233.0</td>\n",
       "      <td>82.0</td>\n",
       "      <td>58.0</td>\n",
       "      <td>27</td>\n",
       "      <td>7</td>\n",
       "      <td>3600000.0</td>\n",
       "      <td>1300000</td>\n",
       "      <td>2.0</td>\n",
       "      <td>49.135010</td>\n",
       "    </tr>\n",
       "    <tr>\n",
       "      <th>1</th>\n",
       "      <td>2</td>\n",
       "      <td>Bhubaneshwar</td>\n",
       "      <td>Female</td>\n",
       "      <td>Mrs</td>\n",
       "      <td>riya masi</td>\n",
       "      <td>YES</td>\n",
       "      <td>2.0</td>\n",
       "      <td>Farmer</td>\n",
       "      <td>Walk</td>\n",
       "      <td>2</td>\n",
       "      <td>...</td>\n",
       "      <td>56.0</td>\n",
       "      <td>328.0</td>\n",
       "      <td>89.0</td>\n",
       "      <td>68.0</td>\n",
       "      <td>5</td>\n",
       "      <td>6</td>\n",
       "      <td>1600000.0</td>\n",
       "      <td>400000</td>\n",
       "      <td>1.0</td>\n",
       "      <td>51.147880</td>\n",
       "    </tr>\n",
       "    <tr>\n",
       "      <th>2</th>\n",
       "      <td>3</td>\n",
       "      <td>Bhubaneshwar</td>\n",
       "      <td>Female</td>\n",
       "      <td>Mrs</td>\n",
       "      <td>sunita</td>\n",
       "      <td>NO</td>\n",
       "      <td>1.0</td>\n",
       "      <td>Cleaner</td>\n",
       "      <td>Public</td>\n",
       "      <td>2</td>\n",
       "      <td>...</td>\n",
       "      <td>137.0</td>\n",
       "      <td>213.0</td>\n",
       "      <td>77.0</td>\n",
       "      <td>43.0</td>\n",
       "      <td>40</td>\n",
       "      <td>6</td>\n",
       "      <td>3400000.0</td>\n",
       "      <td>900000</td>\n",
       "      <td>1.0</td>\n",
       "      <td>73.224000</td>\n",
       "    </tr>\n",
       "    <tr>\n",
       "      <th>3</th>\n",
       "      <td>4</td>\n",
       "      <td>Bhubaneshwar</td>\n",
       "      <td>Female</td>\n",
       "      <td>Mrs</td>\n",
       "      <td>anjali @ babli</td>\n",
       "      <td>YES</td>\n",
       "      <td>1.0</td>\n",
       "      <td>Driver</td>\n",
       "      <td>Car</td>\n",
       "      <td>2</td>\n",
       "      <td>...</td>\n",
       "      <td>167.0</td>\n",
       "      <td>275.0</td>\n",
       "      <td>64.0</td>\n",
       "      <td>60.0</td>\n",
       "      <td>27</td>\n",
       "      <td>7</td>\n",
       "      <td>700000.0</td>\n",
       "      <td>2300000</td>\n",
       "      <td>1.0</td>\n",
       "      <td>48.779225</td>\n",
       "    </tr>\n",
       "    <tr>\n",
       "      <th>4</th>\n",
       "      <td>5</td>\n",
       "      <td>Bhubaneshwar</td>\n",
       "      <td>Female</td>\n",
       "      <td>Mrs</td>\n",
       "      <td>champa karketta</td>\n",
       "      <td>NO</td>\n",
       "      <td>2.0</td>\n",
       "      <td>Manufacturing</td>\n",
       "      <td>Car</td>\n",
       "      <td>2</td>\n",
       "      <td>...</td>\n",
       "      <td>153.0</td>\n",
       "      <td>331.0</td>\n",
       "      <td>71.0</td>\n",
       "      <td>64.0</td>\n",
       "      <td>32</td>\n",
       "      <td>7</td>\n",
       "      <td>3200000.0</td>\n",
       "      <td>1100000</td>\n",
       "      <td>1.0</td>\n",
       "      <td>87.868800</td>\n",
       "    </tr>\n",
       "  </tbody>\n",
       "</table>\n",
       "<p>5 rows × 28 columns</p>\n",
       "</div>"
      ],
      "text/plain": [
       "   people_ID        Region  Gender Designation             Name Married  \\\n",
       "0          1  Bhubaneshwar  Female         Mrs            mansi     YES   \n",
       "1          2  Bhubaneshwar  Female         Mrs        riya masi     YES   \n",
       "2          3  Bhubaneshwar  Female         Mrs           sunita      NO   \n",
       "3          4  Bhubaneshwar  Female         Mrs   anjali @ babli     YES   \n",
       "4          5  Bhubaneshwar  Female         Mrs  champa karketta      NO   \n",
       "\n",
       "   Children     Occupation Mode_transport  cases/1M  ...    HBB d-dimer  \\\n",
       "0       1.0         Farmer         Public         2  ...   93.0   233.0   \n",
       "1       2.0         Farmer           Walk         2  ...   56.0   328.0   \n",
       "2       1.0        Cleaner         Public         2  ...  137.0   213.0   \n",
       "3       1.0         Driver            Car         2  ...  167.0   275.0   \n",
       "4       2.0  Manufacturing            Car         2  ...  153.0   331.0   \n",
       "\n",
       "   Heart rate  HDL cholesterol Charlson Index Blood Glucose  Insurance  \\\n",
       "0        82.0             58.0             27             7  3600000.0   \n",
       "1        89.0             68.0              5             6  1600000.0   \n",
       "2        77.0             43.0             40             6  3400000.0   \n",
       "3        64.0             60.0             27             7   700000.0   \n",
       "4        71.0             64.0             32             7  3200000.0   \n",
       "\n",
       "    salary  FT/month  Infect_Prob  \n",
       "0  1300000       2.0    49.135010  \n",
       "1   400000       1.0    51.147880  \n",
       "2   900000       1.0    73.224000  \n",
       "3  2300000       1.0    48.779225  \n",
       "4  1100000       1.0    87.868800  \n",
       "\n",
       "[5 rows x 28 columns]"
      ]
     },
     "execution_count": 3,
     "metadata": {},
     "output_type": "execute_result"
    }
   ],
   "source": [
    "df.head()"
   ]
  },
  {
   "cell_type": "code",
   "execution_count": 4,
   "metadata": {},
   "outputs": [
    {
     "data": {
      "text/plain": [
       "Index(['people_ID', 'Region', 'Gender', 'Designation', 'Name', 'Married',\n",
       "       'Children', 'Occupation', 'Mode_transport', 'cases/1M', 'Deaths/1M',\n",
       "       'comorbidity', 'Age', 'Coma score', 'Pulmonary score',\n",
       "       'cardiological pressure', 'Diuresis', 'Platelets', 'HBB', 'd-dimer',\n",
       "       'Heart rate', 'HDL cholesterol', 'Charlson Index', 'Blood Glucose',\n",
       "       'Insurance', 'salary', 'FT/month', 'Infect_Prob'],\n",
       "      dtype='object')"
      ]
     },
     "execution_count": 4,
     "metadata": {},
     "output_type": "execute_result"
    }
   ],
   "source": [
    "df.columns"
   ]
  },
  {
   "cell_type": "markdown",
   "metadata": {},
   "source": [
    "If you see the information about the dataframe we found that there are many missing values. So I am going to do the required preprocessing before actually building the model."
   ]
  },
  {
   "cell_type": "code",
   "execution_count": 5,
   "metadata": {},
   "outputs": [
    {
     "name": "stdout",
     "output_type": "stream",
     "text": [
      "<class 'pandas.core.frame.DataFrame'>\n",
      "RangeIndex: 10714 entries, 0 to 10713\n",
      "Data columns (total 28 columns):\n",
      "people_ID                 10714 non-null int64\n",
      "Region                    10714 non-null object\n",
      "Gender                    10714 non-null object\n",
      "Designation               10714 non-null object\n",
      "Name                      10694 non-null object\n",
      "Married                   10714 non-null object\n",
      "Children                  10403 non-null float64\n",
      "Occupation                9967 non-null object\n",
      "Mode_transport            10711 non-null object\n",
      "cases/1M                  10714 non-null int64\n",
      "Deaths/1M                 10714 non-null int64\n",
      "comorbidity               10488 non-null object\n",
      "Age                       10714 non-null int64\n",
      "Coma score                10714 non-null int64\n",
      "Pulmonary score           10714 non-null object\n",
      "cardiological pressure    10617 non-null object\n",
      "Diuresis                  9998 non-null float64\n",
      "Platelets                 9790 non-null float64\n",
      "HBB                       10698 non-null float64\n",
      "d-dimer                   9600 non-null float64\n",
      "Heart rate                9600 non-null float64\n",
      "HDL cholesterol           10679 non-null float64\n",
      "Charlson Index            10714 non-null int64\n",
      "Blood Glucose             10714 non-null int64\n",
      "Insurance                 9624 non-null float64\n",
      "salary                    10714 non-null int64\n",
      "FT/month                  9991 non-null float64\n",
      "Infect_Prob               10714 non-null float64\n",
      "dtypes: float64(10), int64(8), object(10)\n",
      "memory usage: 2.3+ MB\n"
     ]
    }
   ],
   "source": [
    "df.info()"
   ]
  },
  {
   "cell_type": "code",
   "execution_count": 6,
   "metadata": {},
   "outputs": [
    {
     "data": {
      "text/plain": [
       "people_ID                    0\n",
       "Region                       0\n",
       "Gender                       0\n",
       "Designation                  0\n",
       "Name                        20\n",
       "Married                      0\n",
       "Children                   311\n",
       "Occupation                 747\n",
       "Mode_transport               3\n",
       "cases/1M                     0\n",
       "Deaths/1M                    0\n",
       "comorbidity                226\n",
       "Age                          0\n",
       "Coma score                   0\n",
       "Pulmonary score              0\n",
       "cardiological pressure      97\n",
       "Diuresis                   716\n",
       "Platelets                  924\n",
       "HBB                         16\n",
       "d-dimer                   1114\n",
       "Heart rate                1114\n",
       "HDL cholesterol             35\n",
       "Charlson Index               0\n",
       "Blood Glucose                0\n",
       "Insurance                 1090\n",
       "salary                       0\n",
       "FT/month                   723\n",
       "Infect_Prob                  0\n",
       "dtype: int64"
      ]
     },
     "execution_count": 6,
     "metadata": {},
     "output_type": "execute_result"
    }
   ],
   "source": [
    "df.isnull().sum()"
   ]
  },
  {
   "cell_type": "code",
   "execution_count": 7,
   "metadata": {},
   "outputs": [],
   "source": [
    "#storing the people_id attribute for its further reference\n",
    "people_id = df['people_ID']"
   ]
  },
  {
   "cell_type": "markdown",
   "metadata": {},
   "source": [
    "As we observe the dataset there are some unnecessary features for example Designation, Children, Name, etc for predicting the probability of the infected people. So we are going to drop those features from the dataframe "
   ]
  },
  {
   "cell_type": "code",
   "execution_count": 8,
   "metadata": {},
   "outputs": [],
   "source": [
    "df= df.drop('people_ID',axis = 1)"
   ]
  },
  {
   "cell_type": "code",
   "execution_count": 9,
   "metadata": {},
   "outputs": [],
   "source": [
    "df= df.drop(['Designation','Children','Name','Married','Insurance','salary'],axis = 1)"
   ]
  },
  {
   "cell_type": "code",
   "execution_count": 10,
   "metadata": {},
   "outputs": [
    {
     "name": "stdout",
     "output_type": "stream",
     "text": [
      "<class 'pandas.core.frame.DataFrame'>\n",
      "RangeIndex: 10714 entries, 0 to 10713\n",
      "Data columns (total 21 columns):\n",
      "Region                    10714 non-null object\n",
      "Gender                    10714 non-null object\n",
      "Occupation                9967 non-null object\n",
      "Mode_transport            10711 non-null object\n",
      "cases/1M                  10714 non-null int64\n",
      "Deaths/1M                 10714 non-null int64\n",
      "comorbidity               10488 non-null object\n",
      "Age                       10714 non-null int64\n",
      "Coma score                10714 non-null int64\n",
      "Pulmonary score           10714 non-null object\n",
      "cardiological pressure    10617 non-null object\n",
      "Diuresis                  9998 non-null float64\n",
      "Platelets                 9790 non-null float64\n",
      "HBB                       10698 non-null float64\n",
      "d-dimer                   9600 non-null float64\n",
      "Heart rate                9600 non-null float64\n",
      "HDL cholesterol           10679 non-null float64\n",
      "Charlson Index            10714 non-null int64\n",
      "Blood Glucose             10714 non-null int64\n",
      "FT/month                  9991 non-null float64\n",
      "Infect_Prob               10714 non-null float64\n",
      "dtypes: float64(8), int64(6), object(7)\n",
      "memory usage: 1.7+ MB\n"
     ]
    }
   ],
   "source": [
    "df.info()"
   ]
  },
  {
   "cell_type": "code",
   "execution_count": 11,
   "metadata": {},
   "outputs": [
    {
     "data": {
      "text/plain": [
       "Region                       0\n",
       "Gender                       0\n",
       "Occupation                 747\n",
       "Mode_transport               3\n",
       "cases/1M                     0\n",
       "Deaths/1M                    0\n",
       "comorbidity                226\n",
       "Age                          0\n",
       "Coma score                   0\n",
       "Pulmonary score              0\n",
       "cardiological pressure      97\n",
       "Diuresis                   716\n",
       "Platelets                  924\n",
       "HBB                         16\n",
       "d-dimer                   1114\n",
       "Heart rate                1114\n",
       "HDL cholesterol             35\n",
       "Charlson Index               0\n",
       "Blood Glucose                0\n",
       "FT/month                   723\n",
       "Infect_Prob                  0\n",
       "dtype: int64"
      ]
     },
     "execution_count": 11,
     "metadata": {},
     "output_type": "execute_result"
    }
   ],
   "source": [
    "df.isna().sum()"
   ]
  },
  {
   "cell_type": "markdown",
   "metadata": {},
   "source": [
    "Now, its time for filling the missing values"
   ]
  },
  {
   "cell_type": "code",
   "execution_count": 12,
   "metadata": {},
   "outputs": [
    {
     "data": {
      "text/html": [
       "<div>\n",
       "<style scoped>\n",
       "    .dataframe tbody tr th:only-of-type {\n",
       "        vertical-align: middle;\n",
       "    }\n",
       "\n",
       "    .dataframe tbody tr th {\n",
       "        vertical-align: top;\n",
       "    }\n",
       "\n",
       "    .dataframe thead th {\n",
       "        text-align: right;\n",
       "    }\n",
       "</style>\n",
       "<table border=\"1\" class=\"dataframe\">\n",
       "  <thead>\n",
       "    <tr style=\"text-align: right;\">\n",
       "      <th>col_0</th>\n",
       "      <th>count</th>\n",
       "    </tr>\n",
       "    <tr>\n",
       "      <th>Occupation</th>\n",
       "      <th></th>\n",
       "    </tr>\n",
       "  </thead>\n",
       "  <tbody>\n",
       "    <tr>\n",
       "      <th>Business</th>\n",
       "      <td>1053</td>\n",
       "    </tr>\n",
       "    <tr>\n",
       "      <th>Cleaner</th>\n",
       "      <td>1111</td>\n",
       "    </tr>\n",
       "    <tr>\n",
       "      <th>Clerk</th>\n",
       "      <td>1078</td>\n",
       "    </tr>\n",
       "    <tr>\n",
       "      <th>Driver</th>\n",
       "      <td>1072</td>\n",
       "    </tr>\n",
       "    <tr>\n",
       "      <th>Farmer</th>\n",
       "      <td>1113</td>\n",
       "    </tr>\n",
       "    <tr>\n",
       "      <th>Legal</th>\n",
       "      <td>1174</td>\n",
       "    </tr>\n",
       "    <tr>\n",
       "      <th>Manufacturing</th>\n",
       "      <td>1120</td>\n",
       "    </tr>\n",
       "    <tr>\n",
       "      <th>Researcher</th>\n",
       "      <td>1115</td>\n",
       "    </tr>\n",
       "    <tr>\n",
       "      <th>Sales</th>\n",
       "      <td>1131</td>\n",
       "    </tr>\n",
       "  </tbody>\n",
       "</table>\n",
       "</div>"
      ],
      "text/plain": [
       "col_0          count\n",
       "Occupation          \n",
       "Business        1053\n",
       "Cleaner         1111\n",
       "Clerk           1078\n",
       "Driver          1072\n",
       "Farmer          1113\n",
       "Legal           1174\n",
       "Manufacturing   1120\n",
       "Researcher      1115\n",
       "Sales           1131"
      ]
     },
     "execution_count": 12,
     "metadata": {},
     "output_type": "execute_result"
    }
   ],
   "source": [
    "#dealing with missing values\n",
    "#1) Occupation\n",
    "pd.crosstab(index=df[\"Occupation\"],columns=\"count\")"
   ]
  },
  {
   "cell_type": "code",
   "execution_count": 13,
   "metadata": {},
   "outputs": [
    {
     "name": "stdout",
     "output_type": "stream",
     "text": [
      "Percent of missing \"Occupation\" records is 6.97%\n"
     ]
    }
   ],
   "source": [
    "print('Percent of missing \"Occupation\" records is %.2f%%' %((df['Occupation'].isnull().sum()/df.shape[0])*100))"
   ]
  },
  {
   "cell_type": "code",
   "execution_count": 14,
   "metadata": {
    "scrolled": true
   },
   "outputs": [
    {
     "name": "stdout",
     "output_type": "stream",
     "text": [
      "Legal            1174\n",
      "Sales            1131\n",
      "Manufacturing    1120\n",
      "Researcher       1115\n",
      "Farmer           1113\n",
      "Cleaner          1111\n",
      "Clerk            1078\n",
      "Driver           1072\n",
      "Business         1053\n",
      "Name: Occupation, dtype: int64\n"
     ]
    },
    {
     "data": {
      "image/png": "[encoded data removed]",
      "text/plain": [
       "<Figure size 432x288 with 1 Axes>"
      ]
     },
     "metadata": {
      "needs_background": "light"
     },
     "output_type": "display_data"
    }
   ],
   "source": [
    "#Therefore we can replace the missing values by mode of Occupation column\n",
    "print(df['Occupation'].value_counts())\n",
    "sns.countplot(x='Occupation', data=df, palette='Set2')\n",
    "plt.show()\n",
    "train_data = df.copy()\n",
    "# df['Occupation'].value_counts().idxmax()\n",
    "train_data['Occupation'].fillna(df['Occupation'].value_counts().idxmax(),inplace=True)"
   ]
  },
  {
   "cell_type": "code",
   "execution_count": 15,
   "metadata": {},
   "outputs": [
    {
     "data": {
      "text/html": [
       "<div>\n",
       "<style scoped>\n",
       "    .dataframe tbody tr th:only-of-type {\n",
       "        vertical-align: middle;\n",
       "    }\n",
       "\n",
       "    .dataframe tbody tr th {\n",
       "        vertical-align: top;\n",
       "    }\n",
       "\n",
       "    .dataframe thead th {\n",
       "        text-align: right;\n",
       "    }\n",
       "</style>\n",
       "<table border=\"1\" class=\"dataframe\">\n",
       "  <thead>\n",
       "    <tr style=\"text-align: right;\">\n",
       "      <th>col_0</th>\n",
       "      <th>count</th>\n",
       "    </tr>\n",
       "    <tr>\n",
       "      <th>comorbidity</th>\n",
       "      <th></th>\n",
       "    </tr>\n",
       "  </thead>\n",
       "  <tbody>\n",
       "    <tr>\n",
       "      <th>Coronary Heart Disease</th>\n",
       "      <td>2595</td>\n",
       "    </tr>\n",
       "    <tr>\n",
       "      <th>Diabetes</th>\n",
       "      <td>2614</td>\n",
       "    </tr>\n",
       "    <tr>\n",
       "      <th>Hypertension</th>\n",
       "      <td>2642</td>\n",
       "    </tr>\n",
       "    <tr>\n",
       "      <th>None</th>\n",
       "      <td>2637</td>\n",
       "    </tr>\n",
       "  </tbody>\n",
       "</table>\n",
       "</div>"
      ],
      "text/plain": [
       "col_0                   count\n",
       "comorbidity                  \n",
       "Coronary Heart Disease   2595\n",
       "Diabetes                 2614\n",
       "Hypertension             2642\n",
       "None                     2637"
      ]
     },
     "execution_count": 15,
     "metadata": {},
     "output_type": "execute_result"
    }
   ],
   "source": [
    "# 2)Comorbidity\n",
    "pd.crosstab(index=df[\"comorbidity\"],columns=\"count\")"
   ]
  },
  {
   "cell_type": "code",
   "execution_count": 16,
   "metadata": {
    "scrolled": true
   },
   "outputs": [
    {
     "name": "stdout",
     "output_type": "stream",
     "text": [
      "Percent of missing \"Comorbidity\" records is 2.11%\n"
     ]
    }
   ],
   "source": [
    "print('Percent of missing \"Comorbidity\" records is %.2f%%' %((df['comorbidity'].isnull().sum()/df.shape[0])*100))"
   ]
  },
  {
   "cell_type": "code",
   "execution_count": 17,
   "metadata": {},
   "outputs": [
    {
     "data": {
      "image/png": "[encoded data removed]",
      "text/plain": [
       "<Figure size 432x288 with 1 Axes>"
      ]
     },
     "metadata": {
      "needs_background": "light"
     },
     "output_type": "display_data"
    }
   ],
   "source": [
    "#Therefore we can replace the missing values by mode of Comorbidity column\n",
    "sns.countplot(x='comorbidity', data=df, palette='Set2')\n",
    "plt.show()\n",
    "train_data['comorbidity'].fillna(df['comorbidity'].value_counts().idxmax(),inplace=True)"
   ]
  },
  {
   "cell_type": "code",
   "execution_count": 18,
   "metadata": {},
   "outputs": [
    {
     "name": "stdout",
     "output_type": "stream",
     "text": [
      "Percent of missing \"cardiological pressure\" records is 0.91%\n",
      "Normal      2681\n",
      "Stage-01    2657\n",
      "Elevated    2641\n",
      "Stage-02    2638\n",
      "Name: cardiological pressure, dtype: int64\n"
     ]
    },
    {
     "data": {
      "image/png": "[encoded data removed]",
      "text/plain": [
       "<Figure size 432x288 with 1 Axes>"
      ]
     },
     "metadata": {
      "needs_background": "light"
     },
     "output_type": "display_data"
    }
   ],
   "source": [
    "# 3) cardiological pressure\n",
    "print('Percent of missing \"cardiological pressure\" records is %.2f%%' %((df['cardiological pressure'].isnull().sum()/df.shape[0])*100))\n",
    "#Therefore we can replace the missing values by mode of cardiological pressure column\n",
    "print(df['cardiological pressure'].value_counts())\n",
    "sns.countplot(x='cardiological pressure', data=df, palette='Set2')\n",
    "plt.show()\n",
    "train_data['cardiological pressure'].fillna(df['cardiological pressure'].value_counts().idxmax(),inplace=True)"
   ]
  },
  {
   "cell_type": "code",
   "execution_count": 19,
   "metadata": {},
   "outputs": [
    {
     "name": "stdout",
     "output_type": "stream",
     "text": [
      "Percent of missing \"Diuresis\" records is 6.68%\n"
     ]
    }
   ],
   "source": [
    "# 4) Diuresis\n",
    "print('Percent of missing \"Diuresis\" records is %.2f%%' %((df['Diuresis'].isnull().sum()/df.shape[0])*100))\n"
   ]
  },
  {
   "cell_type": "code",
   "execution_count": 20,
   "metadata": {},
   "outputs": [
    {
     "data": {
      "image/png": "[encoded data removed]",
      "text/plain": [
       "<Figure size 432x288 with 1 Axes>"
      ]
     },
     "metadata": {
      "needs_background": "light"
     },
     "output_type": "display_data"
    }
   ],
   "source": [
    "ax = df[\"Diuresis\"].hist(bins=15, density=True, stacked=True, color='teal', alpha=0.6)\n",
    "df[\"Diuresis\"].plot(kind='density', color='teal')\n",
    "ax.set(xlabel='Diuresis')\n",
    "plt.xlim(50,500)\n",
    "plt.show()"
   ]
  },
  {
   "cell_type": "code",
   "execution_count": 21,
   "metadata": {},
   "outputs": [],
   "source": [
    "#Therefore we can replace the missing values by median of Diuresis column\n",
    "train_data['Diuresis'].fillna(df['Diuresis'].median(skipna = True),inplace = True)"
   ]
  },
  {
   "cell_type": "code",
   "execution_count": 22,
   "metadata": {},
   "outputs": [
    {
     "name": "stdout",
     "output_type": "stream",
     "text": [
      "Percent of missing \"Platelets\" records is 8.62%\n"
     ]
    }
   ],
   "source": [
    "# 5) Platelets\n",
    "print('Percent of missing \"Platelets\" records is %.2f%%' %((df['Platelets'].isnull().sum()/df.shape[0])*100))\n"
   ]
  },
  {
   "cell_type": "code",
   "execution_count": 23,
   "metadata": {},
   "outputs": [
    {
     "data": {
      "image/png": "[encoded data removed]",
      "text/plain": [
       "<Figure size 432x288 with 1 Axes>"
      ]
     },
     "metadata": {
      "needs_background": "light"
     },
     "output_type": "display_data"
    }
   ],
   "source": [
    "ax = df[\"Platelets\"].hist(bins=15, density=True, stacked=True, color='teal', alpha=0.6)\n",
    "df[\"Platelets\"].plot(kind='density', color='teal')\n",
    "ax.set(xlabel='Platelets')\n",
    "plt.xlim(0,200)\n",
    "plt.show()"
   ]
  },
  {
   "cell_type": "code",
   "execution_count": 24,
   "metadata": {},
   "outputs": [],
   "source": [
    "#Therefore we can replace the missing values by median of Platelets column\n",
    "train_data['Platelets'].fillna(df['Platelets'].median(skipna = True),inplace = True)"
   ]
  },
  {
   "cell_type": "code",
   "execution_count": 25,
   "metadata": {},
   "outputs": [
    {
     "name": "stdout",
     "output_type": "stream",
     "text": [
      "Percent of missing \"HBB\" records is 0.15%\n"
     ]
    },
    {
     "data": {
      "image/png": "[encoded data removed]",
      "text/plain": [
       "<Figure size 432x288 with 1 Axes>"
      ]
     },
     "metadata": {
      "needs_background": "light"
     },
     "output_type": "display_data"
    }
   ],
   "source": [
    "# 6) HBB\n",
    "print('Percent of missing \"HBB\" records is %.2f%%' %((df['HBB'].isnull().sum()/df.shape[0])*100))\n",
    "ax = df[\"HBB\"].hist(bins=15, density=True, stacked=True, color='teal', alpha=0.6)\n",
    "df[\"HBB\"].plot(kind='density', color='teal')\n",
    "ax.set(xlabel='HBB')\n",
    "plt.xlim(0,300)\n",
    "plt.show()\n",
    "\n",
    "#Therefore we can replace the missing values by median of Platelets column\n",
    "train_data['HBB'].fillna(df['HBB'].median(skipna = True),inplace = True)"
   ]
  },
  {
   "cell_type": "code",
   "execution_count": 26,
   "metadata": {},
   "outputs": [
    {
     "name": "stdout",
     "output_type": "stream",
     "text": [
      "Percent of missing \"d-dimer\" records is 10.40%\n"
     ]
    },
    {
     "data": {
      "image/png": "[encoded data removed]",
      "text/plain": [
       "<Figure size 432x288 with 1 Axes>"
      ]
     },
     "metadata": {
      "needs_background": "light"
     },
     "output_type": "display_data"
    }
   ],
   "source": [
    "# 6) d-dimer\n",
    "print('Percent of missing \"d-dimer\" records is %.2f%%' %((df['d-dimer'].isnull().sum()/df.shape[0])*100))\n",
    "ax = df[\"d-dimer\"].hist(bins=15, density=True, stacked=True, color='teal', alpha=0.6)\n",
    "df[\"d-dimer\"].plot(kind='density', color='teal')\n",
    "ax.set(xlabel='d-dimer')\n",
    "plt.xlim(150,500)\n",
    "plt.show()\n",
    "\n",
    "#Therefore we can replace the missing values by median of Platelets column\n",
    "train_data['d-dimer'].fillna(df['d-dimer'].median(skipna = True),inplace = True)"
   ]
  },
  {
   "cell_type": "code",
   "execution_count": 27,
   "metadata": {},
   "outputs": [
    {
     "name": "stdout",
     "output_type": "stream",
     "text": [
      "Percent of missing \"Heart rate\" records is 10.40%\n"
     ]
    },
    {
     "data": {
      "image/png": "[encoded data removed]",
      "text/plain": [
       "<Figure size 432x288 with 1 Axes>"
      ]
     },
     "metadata": {
      "needs_background": "light"
     },
     "output_type": "display_data"
    }
   ],
   "source": [
    "# 7) Heart rate\n",
    "print('Percent of missing \"Heart rate\" records is %.2f%%' %((df['Heart rate'].isnull().sum()/df.shape[0])*100))\n",
    "ax = df[\"Heart rate\"].hist(bins=15, density=True, stacked=True, color='teal', alpha=0.6)\n",
    "df[\"Heart rate\"].plot(kind='density', color='teal')\n",
    "ax.set(xlabel='Heart rate')\n",
    "plt.xlim(40,120)\n",
    "plt.show()\n",
    "\n",
    "#Therefore we can replace the missing values by mean of Platelets column\n",
    "train_data['Heart rate'].fillna(df['Heart rate'].mean(skipna = True),inplace = True)"
   ]
  },
  {
   "cell_type": "code",
   "execution_count": 28,
   "metadata": {},
   "outputs": [
    {
     "name": "stdout",
     "output_type": "stream",
     "text": [
      "Percent of missing \"HDL cholesterol\" records is 0.33%\n"
     ]
    },
    {
     "data": {
      "image/png": "[encoded data removed]",
      "text/plain": [
       "<Figure size 432x288 with 1 Axes>"
      ]
     },
     "metadata": {
      "needs_background": "light"
     },
     "output_type": "display_data"
    }
   ],
   "source": [
    "# 8) HDL cholesterol\n",
    "print('Percent of missing \"HDL cholesterol\" records is %.2f%%' %((df['HDL cholesterol'].isnull().sum()/df.shape[0])*100))\n",
    "ax = df[\"HDL cholesterol\"].hist(bins=15, density=True, stacked=True, color='teal', alpha=0.6)\n",
    "df[\"HDL cholesterol\"].plot(kind='density', color='teal')\n",
    "ax.set(xlabel='HDL cholesterol')\n",
    "plt.xlim(0,120)\n",
    "plt.show()\n",
    "\n",
    "#Therefore we can replace the missing values by mean of HDL cholesterol column\n",
    "train_data['HDL cholesterol'].fillna(df['HDL cholesterol'].mean(skipna = True),inplace = True)"
   ]
  },
  {
   "cell_type": "code",
   "execution_count": 29,
   "metadata": {},
   "outputs": [
    {
     "name": "stdout",
     "output_type": "stream",
     "text": [
      "Percent of missing \"FT/month \" records is 6.75%\n",
      "1.0    3351\n",
      "2.0    3343\n",
      "0.0    3297\n",
      "Name: FT/month, dtype: int64\n"
     ]
    },
    {
     "data": {
      "image/png": "[encoded data removed]",
      "text/plain": [
       "<Figure size 432x288 with 1 Axes>"
      ]
     },
     "metadata": {
      "needs_background": "light"
     },
     "output_type": "display_data"
    }
   ],
   "source": [
    "# 9) FT/month \n",
    "print('Percent of missing \"FT/month \" records is %.2f%%' %((df['FT/month'].isnull().sum()/df.shape[0])*100))\n",
    "#Therefore we can replace the missing values by mode of FT/month column\n",
    "print(df['FT/month'].value_counts())\n",
    "sns.countplot(x='FT/month', data=df, palette='Set2')\n",
    "plt.show()\n",
    "train_data['FT/month'].fillna(df['FT/month'].value_counts().idxmax(),inplace=True)"
   ]
  },
  {
   "cell_type": "code",
   "execution_count": 30,
   "metadata": {},
   "outputs": [
    {
     "name": "stdout",
     "output_type": "stream",
     "text": [
      "Percent of missing \"Mode_transport\" records is 0.03%\n",
      "Public    3588\n",
      "Walk      3568\n",
      "Car       3555\n",
      "Name: Mode_transport, dtype: int64\n"
     ]
    },
    {
     "data": {
      "image/png": "[encoded data removed]",
      "text/plain": [
       "<Figure size 432x288 with 1 Axes>"
      ]
     },
     "metadata": {
      "needs_background": "light"
     },
     "output_type": "display_data"
    }
   ],
   "source": [
    "\n",
    "# 9) Mode_transport \n",
    "print('Percent of missing \"Mode_transport\" records is %.2f%%' %((df['Mode_transport'].isnull().sum()/df.shape[0])*100))\n",
    "#Therefore we can replace the missing values by mode of Mode_transport column\n",
    "print(df['Mode_transport'].value_counts())\n",
    "sns.countplot(x='Mode_transport', data=df, palette='Set2')\n",
    "plt.show()\n",
    "train_data['Mode_transport'].fillna(df['Mode_transport'].value_counts().idxmax(),inplace=True)"
   ]
  },
  {
   "cell_type": "code",
   "execution_count": 31,
   "metadata": {},
   "outputs": [
    {
     "data": {
      "text/plain": [
       "Region                    0\n",
       "Gender                    0\n",
       "Occupation                0\n",
       "Mode_transport            0\n",
       "cases/1M                  0\n",
       "Deaths/1M                 0\n",
       "comorbidity               0\n",
       "Age                       0\n",
       "Coma score                0\n",
       "Pulmonary score           0\n",
       "cardiological pressure    0\n",
       "Diuresis                  0\n",
       "Platelets                 0\n",
       "HBB                       0\n",
       "d-dimer                   0\n",
       "Heart rate                0\n",
       "HDL cholesterol           0\n",
       "Charlson Index            0\n",
       "Blood Glucose             0\n",
       "FT/month                  0\n",
       "Infect_Prob               0\n",
       "dtype: int64"
      ]
     },
     "execution_count": 31,
     "metadata": {},
     "output_type": "execute_result"
    }
   ],
   "source": [
    "train_data.isna().sum()"
   ]
  },
  {
   "cell_type": "markdown",
   "metadata": {},
   "source": [
    "Filling of missing values is done"
   ]
  },
  {
   "cell_type": "code",
   "execution_count": 32,
   "metadata": {},
   "outputs": [
    {
     "name": "stdout",
     "output_type": "stream",
     "text": [
      "<class 'pandas.core.frame.DataFrame'>\n",
      "RangeIndex: 10714 entries, 0 to 10713\n",
      "Data columns (total 21 columns):\n",
      "Region                    10714 non-null object\n",
      "Gender                    10714 non-null object\n",
      "Occupation                10714 non-null object\n",
      "Mode_transport            10714 non-null object\n",
      "cases/1M                  10714 non-null int64\n",
      "Deaths/1M                 10714 non-null int64\n",
      "comorbidity               10714 non-null object\n",
      "Age                       10714 non-null int64\n",
      "Coma score                10714 non-null int64\n",
      "Pulmonary score           10714 non-null object\n",
      "cardiological pressure    10714 non-null object\n",
      "Diuresis                  10714 non-null float64\n",
      "Platelets                 10714 non-null float64\n",
      "HBB                       10714 non-null float64\n",
      "d-dimer                   10714 non-null float64\n",
      "Heart rate                10714 non-null float64\n",
      "HDL cholesterol           10714 non-null float64\n",
      "Charlson Index            10714 non-null int64\n",
      "Blood Glucose             10714 non-null int64\n",
      "FT/month                  10714 non-null float64\n",
      "Infect_Prob               10714 non-null float64\n",
      "dtypes: float64(8), int64(6), object(7)\n",
      "memory usage: 1.7+ MB\n"
     ]
    }
   ],
   "source": [
    "train_data.info()"
   ]
  },
  {
   "cell_type": "code",
   "execution_count": 33,
   "metadata": {},
   "outputs": [],
   "source": [
    "#segregating the categorical features in the dataframe\n",
    "categorical_feature_mask = train_data.dtypes==object\n",
    "categorical_feature_mask\n",
    "categorical_cols = train_data.columns[categorical_feature_mask].tolist()"
   ]
  },
  {
   "cell_type": "code",
   "execution_count": 34,
   "metadata": {},
   "outputs": [
    {
     "data": {
      "text/plain": [
       "['Region',\n",
       " 'Gender',\n",
       " 'Occupation',\n",
       " 'Mode_transport',\n",
       " 'comorbidity',\n",
       " 'Pulmonary score',\n",
       " 'cardiological pressure']"
      ]
     },
     "execution_count": 34,
     "metadata": {},
     "output_type": "execute_result"
    }
   ],
   "source": [
    "categorical_cols"
   ]
  },
  {
   "cell_type": "code",
   "execution_count": 35,
   "metadata": {},
   "outputs": [],
   "source": [
    "#Using label encoder for converting object type to int type\n",
    "from sklearn.preprocessing import LabelEncoder# instantiate labelencoder object\n",
    "le = LabelEncoder()\n",
    "train_data_2 = train_data.copy()"
   ]
  },
  {
   "cell_type": "code",
   "execution_count": 36,
   "metadata": {},
   "outputs": [
    {
     "data": {
      "text/html": [
       "<div>\n",
       "<style scoped>\n",
       "    .dataframe tbody tr th:only-of-type {\n",
       "        vertical-align: middle;\n",
       "    }\n",
       "\n",
       "    .dataframe tbody tr th {\n",
       "        vertical-align: top;\n",
       "    }\n",
       "\n",
       "    .dataframe thead th {\n",
       "        text-align: right;\n",
       "    }\n",
       "</style>\n",
       "<table border=\"1\" class=\"dataframe\">\n",
       "  <thead>\n",
       "    <tr style=\"text-align: right;\">\n",
       "      <th></th>\n",
       "      <th>Region</th>\n",
       "      <th>Gender</th>\n",
       "      <th>Occupation</th>\n",
       "      <th>Mode_transport</th>\n",
       "      <th>comorbidity</th>\n",
       "      <th>Pulmonary score</th>\n",
       "      <th>cardiological pressure</th>\n",
       "    </tr>\n",
       "  </thead>\n",
       "  <tbody>\n",
       "    <tr>\n",
       "      <th>0</th>\n",
       "      <td>1</td>\n",
       "      <td>0</td>\n",
       "      <td>4</td>\n",
       "      <td>1</td>\n",
       "      <td>2</td>\n",
       "      <td>3</td>\n",
       "      <td>1</td>\n",
       "    </tr>\n",
       "    <tr>\n",
       "      <th>1</th>\n",
       "      <td>1</td>\n",
       "      <td>0</td>\n",
       "      <td>4</td>\n",
       "      <td>2</td>\n",
       "      <td>1</td>\n",
       "      <td>0</td>\n",
       "      <td>3</td>\n",
       "    </tr>\n",
       "    <tr>\n",
       "      <th>2</th>\n",
       "      <td>1</td>\n",
       "      <td>0</td>\n",
       "      <td>1</td>\n",
       "      <td>1</td>\n",
       "      <td>3</td>\n",
       "      <td>2</td>\n",
       "      <td>0</td>\n",
       "    </tr>\n",
       "    <tr>\n",
       "      <th>3</th>\n",
       "      <td>1</td>\n",
       "      <td>0</td>\n",
       "      <td>3</td>\n",
       "      <td>0</td>\n",
       "      <td>0</td>\n",
       "      <td>1</td>\n",
       "      <td>2</td>\n",
       "    </tr>\n",
       "    <tr>\n",
       "      <th>4</th>\n",
       "      <td>1</td>\n",
       "      <td>0</td>\n",
       "      <td>6</td>\n",
       "      <td>0</td>\n",
       "      <td>1</td>\n",
       "      <td>3</td>\n",
       "      <td>1</td>\n",
       "    </tr>\n",
       "    <tr>\n",
       "      <th>5</th>\n",
       "      <td>1</td>\n",
       "      <td>0</td>\n",
       "      <td>2</td>\n",
       "      <td>1</td>\n",
       "      <td>3</td>\n",
       "      <td>0</td>\n",
       "      <td>3</td>\n",
       "    </tr>\n",
       "    <tr>\n",
       "      <th>6</th>\n",
       "      <td>1</td>\n",
       "      <td>0</td>\n",
       "      <td>6</td>\n",
       "      <td>0</td>\n",
       "      <td>0</td>\n",
       "      <td>3</td>\n",
       "      <td>1</td>\n",
       "    </tr>\n",
       "    <tr>\n",
       "      <th>7</th>\n",
       "      <td>1</td>\n",
       "      <td>0</td>\n",
       "      <td>6</td>\n",
       "      <td>1</td>\n",
       "      <td>1</td>\n",
       "      <td>1</td>\n",
       "      <td>2</td>\n",
       "    </tr>\n",
       "    <tr>\n",
       "      <th>8</th>\n",
       "      <td>1</td>\n",
       "      <td>0</td>\n",
       "      <td>8</td>\n",
       "      <td>1</td>\n",
       "      <td>2</td>\n",
       "      <td>1</td>\n",
       "      <td>2</td>\n",
       "    </tr>\n",
       "    <tr>\n",
       "      <th>9</th>\n",
       "      <td>1</td>\n",
       "      <td>0</td>\n",
       "      <td>4</td>\n",
       "      <td>1</td>\n",
       "      <td>3</td>\n",
       "      <td>2</td>\n",
       "      <td>0</td>\n",
       "    </tr>\n",
       "  </tbody>\n",
       "</table>\n",
       "</div>"
      ],
      "text/plain": [
       "   Region  Gender  Occupation  Mode_transport  comorbidity  Pulmonary score  \\\n",
       "0       1       0           4               1            2                3   \n",
       "1       1       0           4               2            1                0   \n",
       "2       1       0           1               1            3                2   \n",
       "3       1       0           3               0            0                1   \n",
       "4       1       0           6               0            1                3   \n",
       "5       1       0           2               1            3                0   \n",
       "6       1       0           6               0            0                3   \n",
       "7       1       0           6               1            1                1   \n",
       "8       1       0           8               1            2                1   \n",
       "9       1       0           4               1            3                2   \n",
       "\n",
       "   cardiological pressure  \n",
       "0                       1  \n",
       "1                       3  \n",
       "2                       0  \n",
       "3                       2  \n",
       "4                       1  \n",
       "5                       3  \n",
       "6                       1  \n",
       "7                       2  \n",
       "8                       2  \n",
       "9                       0  "
      ]
     },
     "execution_count": 36,
     "metadata": {},
     "output_type": "execute_result"
    }
   ],
   "source": [
    "train_data[categorical_cols] = train_data[categorical_cols].apply(lambda col:le.fit_transform(col))\n",
    "train_data[categorical_cols].head(10)"
   ]
  },
  {
   "cell_type": "code",
   "execution_count": 39,
   "metadata": {},
   "outputs": [],
   "source": [
    "from sklearn.preprocessing import StandardScaler\n",
    "scaler = StandardScaler()\n",
    "ACTX_train=scaler.fit_transform(train_data.iloc[:,0:-1])"
   ]
  },
  {
   "cell_type": "code",
   "execution_count": 40,
   "metadata": {},
   "outputs": [],
   "source": [
    "ACTy_train = train_data['Infect_Prob'].values\n"
   ]
  },
  {
   "cell_type": "code",
   "execution_count": 41,
   "metadata": {},
   "outputs": [
    {
     "data": {
      "text/plain": [
       "LinearRegression(copy_X=True, fit_intercept=True, n_jobs=None, normalize=False)"
      ]
     },
     "execution_count": 41,
     "metadata": {},
     "output_type": "execute_result"
    }
   ],
   "source": [
    "#building a model\n",
    "from sklearn.linear_model import LinearRegression\n",
    "from sklearn.preprocessing import PolynomialFeatures\n",
    "poly_reg = PolynomialFeatures(degree=2)\n",
    "poly_reg.fit(ACTX_train,ACTy_train)\n",
    "lin_reg = LinearRegression()\n",
    "lin_reg.fit(ACTX_train,ACTy_train)"
   ]
  },
  {
   "cell_type": "code",
   "execution_count": 42,
   "metadata": {},
   "outputs": [
    {
     "data": {
      "text/plain": [
       "(10714, 20)"
      ]
     },
     "execution_count": 42,
     "metadata": {},
     "output_type": "execute_result"
    }
   ],
   "source": [
    "lin_reg.predict(ACTX_train)\n",
    "ACTX_train.shape"
   ]
  },
  {
   "cell_type": "code",
   "execution_count": 43,
   "metadata": {},
   "outputs": [],
   "source": [
    "test_data = pd.read_excel('Test_dataset.xlsx')"
   ]
  },
  {
   "cell_type": "code",
   "execution_count": 44,
   "metadata": {
    "scrolled": true
   },
   "outputs": [
    {
     "name": "stdout",
     "output_type": "stream",
     "text": [
      "<class 'pandas.core.frame.DataFrame'>\n",
      "RangeIndex: 14498 entries, 0 to 14497\n",
      "Data columns (total 27 columns):\n",
      "people_ID                 14498 non-null int64\n",
      "Region                    14498 non-null object\n",
      "Gender                    14498 non-null object\n",
      "Designation               14498 non-null object\n",
      "Name                      14466 non-null object\n",
      "Married                   14498 non-null object\n",
      "Children                  14498 non-null int64\n",
      "Occupation                14498 non-null object\n",
      "Mode_transport            14498 non-null object\n",
      "cases/1M                  14498 non-null int64\n",
      "Deaths/1M                 14498 non-null int64\n",
      "comorbidity               14498 non-null object\n",
      "Age                       14498 non-null int64\n",
      "Coma score                14498 non-null int64\n",
      "Pulmonary score           14498 non-null object\n",
      "cardiological pressure    14498 non-null object\n",
      "Diuresis                  14498 non-null int64\n",
      "Platelets                 14498 non-null int64\n",
      "HBB                       14498 non-null int64\n",
      "d-dimer                   14498 non-null int64\n",
      "Heart rate                14498 non-null int64\n",
      "HDL cholesterol           14498 non-null int64\n",
      "Charlson Index            14498 non-null int64\n",
      "Blood Glucose             14498 non-null int64\n",
      "Insurance                 14498 non-null int64\n",
      "salary                    14498 non-null int64\n",
      "FT/month                  14498 non-null int64\n",
      "dtypes: int64(17), object(10)\n",
      "memory usage: 3.0+ MB\n"
     ]
    }
   ],
   "source": [
    "test_data.info()"
   ]
  },
  {
   "cell_type": "code",
   "execution_count": 45,
   "metadata": {},
   "outputs": [],
   "source": [
    "test_people_id = test_data['people_ID']\n",
    "test_data= test_data.drop(['people_ID','Designation','Children','Name','Married','Insurance','salary'],axis = 1)"
   ]
  },
  {
   "cell_type": "code",
   "execution_count": 46,
   "metadata": {
    "scrolled": true
   },
   "outputs": [
    {
     "data": {
      "text/plain": [
       "['Region',\n",
       " 'Gender',\n",
       " 'Occupation',\n",
       " 'Mode_transport',\n",
       " 'comorbidity',\n",
       " 'Pulmonary score',\n",
       " 'cardiological pressure']"
      ]
     },
     "execution_count": 46,
     "metadata": {},
     "output_type": "execute_result"
    }
   ],
   "source": [
    "categorical_feature_mask = test_data.dtypes==object\n",
    "categorical_feature_mask\n",
    "categorical_cols = test_data.columns[categorical_feature_mask].tolist()\n",
    "categorical_cols"
   ]
  },
  {
   "cell_type": "code",
   "execution_count": 47,
   "metadata": {},
   "outputs": [],
   "source": [
    "le = LabelEncoder()\n",
    "test_data_2 = test_data.copy()"
   ]
  },
  {
   "cell_type": "code",
   "execution_count": 48,
   "metadata": {
    "scrolled": true
   },
   "outputs": [
    {
     "data": {
      "text/html": [
       "<div>\n",
       "<style scoped>\n",
       "    .dataframe tbody tr th:only-of-type {\n",
       "        vertical-align: middle;\n",
       "    }\n",
       "\n",
       "    .dataframe tbody tr th {\n",
       "        vertical-align: top;\n",
       "    }\n",
       "\n",
       "    .dataframe thead th {\n",
       "        text-align: right;\n",
       "    }\n",
       "</style>\n",
       "<table border=\"1\" class=\"dataframe\">\n",
       "  <thead>\n",
       "    <tr style=\"text-align: right;\">\n",
       "      <th></th>\n",
       "      <th>Region</th>\n",
       "      <th>Gender</th>\n",
       "      <th>Occupation</th>\n",
       "      <th>Mode_transport</th>\n",
       "      <th>comorbidity</th>\n",
       "      <th>Pulmonary score</th>\n",
       "      <th>cardiological pressure</th>\n",
       "    </tr>\n",
       "  </thead>\n",
       "  <tbody>\n",
       "    <tr>\n",
       "      <th>0</th>\n",
       "      <td>0</td>\n",
       "      <td>0</td>\n",
       "      <td>3</td>\n",
       "      <td>1</td>\n",
       "      <td>1</td>\n",
       "      <td>1</td>\n",
       "      <td>2</td>\n",
       "    </tr>\n",
       "    <tr>\n",
       "      <th>1</th>\n",
       "      <td>0</td>\n",
       "      <td>1</td>\n",
       "      <td>5</td>\n",
       "      <td>2</td>\n",
       "      <td>1</td>\n",
       "      <td>1</td>\n",
       "      <td>2</td>\n",
       "    </tr>\n",
       "    <tr>\n",
       "      <th>2</th>\n",
       "      <td>0</td>\n",
       "      <td>0</td>\n",
       "      <td>8</td>\n",
       "      <td>0</td>\n",
       "      <td>1</td>\n",
       "      <td>0</td>\n",
       "      <td>3</td>\n",
       "    </tr>\n",
       "    <tr>\n",
       "      <th>3</th>\n",
       "      <td>0</td>\n",
       "      <td>0</td>\n",
       "      <td>8</td>\n",
       "      <td>0</td>\n",
       "      <td>3</td>\n",
       "      <td>2</td>\n",
       "      <td>0</td>\n",
       "    </tr>\n",
       "    <tr>\n",
       "      <th>4</th>\n",
       "      <td>0</td>\n",
       "      <td>0</td>\n",
       "      <td>0</td>\n",
       "      <td>0</td>\n",
       "      <td>1</td>\n",
       "      <td>1</td>\n",
       "      <td>2</td>\n",
       "    </tr>\n",
       "    <tr>\n",
       "      <th>5</th>\n",
       "      <td>0</td>\n",
       "      <td>1</td>\n",
       "      <td>8</td>\n",
       "      <td>2</td>\n",
       "      <td>1</td>\n",
       "      <td>2</td>\n",
       "      <td>0</td>\n",
       "    </tr>\n",
       "    <tr>\n",
       "      <th>6</th>\n",
       "      <td>0</td>\n",
       "      <td>0</td>\n",
       "      <td>3</td>\n",
       "      <td>0</td>\n",
       "      <td>3</td>\n",
       "      <td>3</td>\n",
       "      <td>1</td>\n",
       "    </tr>\n",
       "    <tr>\n",
       "      <th>7</th>\n",
       "      <td>0</td>\n",
       "      <td>0</td>\n",
       "      <td>6</td>\n",
       "      <td>2</td>\n",
       "      <td>3</td>\n",
       "      <td>2</td>\n",
       "      <td>0</td>\n",
       "    </tr>\n",
       "    <tr>\n",
       "      <th>8</th>\n",
       "      <td>0</td>\n",
       "      <td>0</td>\n",
       "      <td>7</td>\n",
       "      <td>1</td>\n",
       "      <td>2</td>\n",
       "      <td>3</td>\n",
       "      <td>1</td>\n",
       "    </tr>\n",
       "    <tr>\n",
       "      <th>9</th>\n",
       "      <td>0</td>\n",
       "      <td>0</td>\n",
       "      <td>7</td>\n",
       "      <td>1</td>\n",
       "      <td>2</td>\n",
       "      <td>1</td>\n",
       "      <td>2</td>\n",
       "    </tr>\n",
       "  </tbody>\n",
       "</table>\n",
       "</div>"
      ],
      "text/plain": [
       "   Region  Gender  Occupation  Mode_transport  comorbidity  Pulmonary score  \\\n",
       "0       0       0           3               1            1                1   \n",
       "1       0       1           5               2            1                1   \n",
       "2       0       0           8               0            1                0   \n",
       "3       0       0           8               0            3                2   \n",
       "4       0       0           0               0            1                1   \n",
       "5       0       1           8               2            1                2   \n",
       "6       0       0           3               0            3                3   \n",
       "7       0       0           6               2            3                2   \n",
       "8       0       0           7               1            2                3   \n",
       "9       0       0           7               1            2                1   \n",
       "\n",
       "   cardiological pressure  \n",
       "0                       2  \n",
       "1                       2  \n",
       "2                       3  \n",
       "3                       0  \n",
       "4                       2  \n",
       "5                       0  \n",
       "6                       1  \n",
       "7                       0  \n",
       "8                       1  \n",
       "9                       2  "
      ]
     },
     "execution_count": 48,
     "metadata": {},
     "output_type": "execute_result"
    }
   ],
   "source": [
    "test_data[categorical_cols] = test_data[categorical_cols].apply(lambda col:le.fit_transform(col))\n",
    "test_data[categorical_cols].head(10)"
   ]
  },
  {
   "cell_type": "code",
   "execution_count": 49,
   "metadata": {},
   "outputs": [
    {
     "data": {
      "text/plain": [
       "Index(['Region', 'Gender', 'Occupation', 'Mode_transport', 'cases/1M',\n",
       "       'Deaths/1M', 'comorbidity', 'Age', 'Coma score', 'Pulmonary score',\n",
       "       'cardiological pressure', 'Diuresis', 'Platelets', 'HBB', 'd-dimer',\n",
       "       'Heart rate', 'HDL cholesterol', 'Charlson Index', 'Blood Glucose',\n",
       "       'FT/month'],\n",
       "      dtype='object')"
      ]
     },
     "execution_count": 49,
     "metadata": {},
     "output_type": "execute_result"
    }
   ],
   "source": [
    "ACTX_test=scaler.fit_transform(test_data)\n",
    "ACTX_test.shape\n",
    "test_data.columns"
   ]
  },
  {
   "cell_type": "code",
   "execution_count": 52,
   "metadata": {
    "scrolled": false
   },
   "outputs": [
    {
     "data": {
      "text/html": [
       "<div>\n",
       "<style scoped>\n",
       "    .dataframe tbody tr th:only-of-type {\n",
       "        vertical-align: middle;\n",
       "    }\n",
       "\n",
       "    .dataframe tbody tr th {\n",
       "        vertical-align: top;\n",
       "    }\n",
       "\n",
       "    .dataframe thead th {\n",
       "        text-align: right;\n",
       "    }\n",
       "</style>\n",
       "<table border=\"1\" class=\"dataframe\">\n",
       "  <thead>\n",
       "    <tr style=\"text-align: right;\">\n",
       "      <th></th>\n",
       "      <th>Region</th>\n",
       "      <th>Gender</th>\n",
       "      <th>Occupation</th>\n",
       "      <th>Mode_transport</th>\n",
       "      <th>cases/1M</th>\n",
       "      <th>Deaths/1M</th>\n",
       "      <th>comorbidity</th>\n",
       "      <th>Age</th>\n",
       "      <th>Coma score</th>\n",
       "      <th>Pulmonary score</th>\n",
       "      <th>...</th>\n",
       "      <th>Diuresis</th>\n",
       "      <th>Platelets</th>\n",
       "      <th>HBB</th>\n",
       "      <th>d-dimer</th>\n",
       "      <th>Heart rate</th>\n",
       "      <th>HDL cholesterol</th>\n",
       "      <th>Charlson Index</th>\n",
       "      <th>Blood Glucose</th>\n",
       "      <th>FT/month</th>\n",
       "      <th>Infect_Prob</th>\n",
       "    </tr>\n",
       "  </thead>\n",
       "  <tbody>\n",
       "    <tr>\n",
       "      <th>count</th>\n",
       "      <td>10714.000000</td>\n",
       "      <td>10714.000000</td>\n",
       "      <td>10714.000000</td>\n",
       "      <td>10714.000000</td>\n",
       "      <td>10714.000000</td>\n",
       "      <td>10714.000000</td>\n",
       "      <td>10714.000000</td>\n",
       "      <td>10714.000000</td>\n",
       "      <td>10714.000000</td>\n",
       "      <td>10714.000000</td>\n",
       "      <td>...</td>\n",
       "      <td>10714.000000</td>\n",
       "      <td>10714.000000</td>\n",
       "      <td>10714.000000</td>\n",
       "      <td>10714.000000</td>\n",
       "      <td>10714.000000</td>\n",
       "      <td>10714.000000</td>\n",
       "      <td>10714.000000</td>\n",
       "      <td>10714.000000</td>\n",
       "      <td>10714.000000</td>\n",
       "      <td>10714.000000</td>\n",
       "    </tr>\n",
       "    <tr>\n",
       "      <th>mean</th>\n",
       "      <td>1.609670</td>\n",
       "      <td>0.493840</td>\n",
       "      <td>4.117323</td>\n",
       "      <td>1.001213</td>\n",
       "      <td>3.285888</td>\n",
       "      <td>0.523241</td>\n",
       "      <td>1.517734</td>\n",
       "      <td>42.083722</td>\n",
       "      <td>9.013067</td>\n",
       "      <td>1.505040</td>\n",
       "      <td>...</td>\n",
       "      <td>278.618723</td>\n",
       "      <td>87.813422</td>\n",
       "      <td>116.172205</td>\n",
       "      <td>275.365876</td>\n",
       "      <td>74.847396</td>\n",
       "      <td>52.632737</td>\n",
       "      <td>20.028094</td>\n",
       "      <td>5.015027</td>\n",
       "      <td>1.004293</td>\n",
       "      <td>52.280680</td>\n",
       "    </tr>\n",
       "    <tr>\n",
       "      <th>std</th>\n",
       "      <td>1.207403</td>\n",
       "      <td>0.499985</td>\n",
       "      <td>2.493631</td>\n",
       "      <td>0.815409</td>\n",
       "      <td>2.721274</td>\n",
       "      <td>0.854303</td>\n",
       "      <td>1.107459</td>\n",
       "      <td>15.323397</td>\n",
       "      <td>3.714970</td>\n",
       "      <td>1.118826</td>\n",
       "      <td>...</td>\n",
       "      <td>94.657085</td>\n",
       "      <td>40.005617</td>\n",
       "      <td>55.137600</td>\n",
       "      <td>41.337432</td>\n",
       "      <td>14.074801</td>\n",
       "      <td>10.417234</td>\n",
       "      <td>11.828445</td>\n",
       "      <td>1.399770</td>\n",
       "      <td>0.787267</td>\n",
       "      <td>10.674667</td>\n",
       "    </tr>\n",
       "    <tr>\n",
       "      <th>min</th>\n",
       "      <td>0.000000</td>\n",
       "      <td>0.000000</td>\n",
       "      <td>0.000000</td>\n",
       "      <td>0.000000</td>\n",
       "      <td>1.000000</td>\n",
       "      <td>0.000000</td>\n",
       "      <td>0.000000</td>\n",
       "      <td>16.000000</td>\n",
       "      <td>3.000000</td>\n",
       "      <td>0.000000</td>\n",
       "      <td>...</td>\n",
       "      <td>110.000000</td>\n",
       "      <td>15.000000</td>\n",
       "      <td>20.000000</td>\n",
       "      <td>200.000000</td>\n",
       "      <td>50.000000</td>\n",
       "      <td>35.000000</td>\n",
       "      <td>0.000000</td>\n",
       "      <td>3.000000</td>\n",
       "      <td>0.000000</td>\n",
       "      <td>29.289600</td>\n",
       "    </tr>\n",
       "    <tr>\n",
       "      <th>25%</th>\n",
       "      <td>1.000000</td>\n",
       "      <td>0.000000</td>\n",
       "      <td>2.000000</td>\n",
       "      <td>0.000000</td>\n",
       "      <td>2.000000</td>\n",
       "      <td>0.000000</td>\n",
       "      <td>1.000000</td>\n",
       "      <td>29.000000</td>\n",
       "      <td>6.000000</td>\n",
       "      <td>1.000000</td>\n",
       "      <td>...</td>\n",
       "      <td>200.000000</td>\n",
       "      <td>55.000000</td>\n",
       "      <td>68.000000</td>\n",
       "      <td>242.000000</td>\n",
       "      <td>63.000000</td>\n",
       "      <td>44.000000</td>\n",
       "      <td>10.000000</td>\n",
       "      <td>4.000000</td>\n",
       "      <td>0.000000</td>\n",
       "      <td>47.277426</td>\n",
       "    </tr>\n",
       "    <tr>\n",
       "      <th>50%</th>\n",
       "      <td>2.000000</td>\n",
       "      <td>0.000000</td>\n",
       "      <td>4.000000</td>\n",
       "      <td>1.000000</td>\n",
       "      <td>2.000000</td>\n",
       "      <td>0.000000</td>\n",
       "      <td>2.000000</td>\n",
       "      <td>42.000000</td>\n",
       "      <td>9.000000</td>\n",
       "      <td>2.000000</td>\n",
       "      <td>...</td>\n",
       "      <td>276.000000</td>\n",
       "      <td>88.000000</td>\n",
       "      <td>117.000000</td>\n",
       "      <td>276.000000</td>\n",
       "      <td>74.847396</td>\n",
       "      <td>53.000000</td>\n",
       "      <td>20.000000</td>\n",
       "      <td>5.000000</td>\n",
       "      <td>1.000000</td>\n",
       "      <td>49.008389</td>\n",
       "    </tr>\n",
       "    <tr>\n",
       "      <th>75%</th>\n",
       "      <td>3.000000</td>\n",
       "      <td>1.000000</td>\n",
       "      <td>6.000000</td>\n",
       "      <td>2.000000</td>\n",
       "      <td>4.000000</td>\n",
       "      <td>1.000000</td>\n",
       "      <td>2.000000</td>\n",
       "      <td>55.000000</td>\n",
       "      <td>12.000000</td>\n",
       "      <td>3.000000</td>\n",
       "      <td>...</td>\n",
       "      <td>358.000000</td>\n",
       "      <td>121.000000</td>\n",
       "      <td>165.000000</td>\n",
       "      <td>309.000000</td>\n",
       "      <td>86.000000</td>\n",
       "      <td>62.000000</td>\n",
       "      <td>30.000000</td>\n",
       "      <td>6.000000</td>\n",
       "      <td>2.000000</td>\n",
       "      <td>52.762313</td>\n",
       "    </tr>\n",
       "    <tr>\n",
       "      <th>max</th>\n",
       "      <td>4.000000</td>\n",
       "      <td>1.000000</td>\n",
       "      <td>8.000000</td>\n",
       "      <td>2.000000</td>\n",
       "      <td>8.000000</td>\n",
       "      <td>2.000000</td>\n",
       "      <td>3.000000</td>\n",
       "      <td>68.000000</td>\n",
       "      <td>15.000000</td>\n",
       "      <td>3.000000</td>\n",
       "      <td>...</td>\n",
       "      <td>450.000000</td>\n",
       "      <td>160.000000</td>\n",
       "      <td>210.000000</td>\n",
       "      <td>350.000000</td>\n",
       "      <td>100.000000</td>\n",
       "      <td>70.000000</td>\n",
       "      <td>40.000000</td>\n",
       "      <td>7.000000</td>\n",
       "      <td>2.000000</td>\n",
       "      <td>97.632000</td>\n",
       "    </tr>\n",
       "  </tbody>\n",
       "</table>\n",
       "<p>8 rows × 21 columns</p>\n",
       "</div>"
      ],
      "text/plain": [
       "             Region        Gender    Occupation  Mode_transport      cases/1M  \\\n",
       "count  10714.000000  10714.000000  10714.000000    10714.000000  10714.000000   \n",
       "mean       1.609670      0.493840      4.117323        1.001213      3.285888   \n",
       "std        1.207403      0.499985      2.493631        0.815409      2.721274   \n",
       "min        0.000000      0.000000      0.000000        0.000000      1.000000   \n",
       "25%        1.000000      0.000000      2.000000        0.000000      2.000000   \n",
       "50%        2.000000      0.000000      4.000000        1.000000      2.000000   \n",
       "75%        3.000000      1.000000      6.000000        2.000000      4.000000   \n",
       "max        4.000000      1.000000      8.000000        2.000000      8.000000   \n",
       "\n",
       "          Deaths/1M   comorbidity           Age    Coma score  \\\n",
       "count  10714.000000  10714.000000  10714.000000  10714.000000   \n",
       "mean       0.523241      1.517734     42.083722      9.013067   \n",
       "std        0.854303      1.107459     15.323397      3.714970   \n",
       "min        0.000000      0.000000     16.000000      3.000000   \n",
       "25%        0.000000      1.000000     29.000000      6.000000   \n",
       "50%        0.000000      2.000000     42.000000      9.000000   \n",
       "75%        1.000000      2.000000     55.000000     12.000000   \n",
       "max        2.000000      3.000000     68.000000     15.000000   \n",
       "\n",
       "       Pulmonary score  ...      Diuresis     Platelets           HBB  \\\n",
       "count     10714.000000  ...  10714.000000  10714.000000  10714.000000   \n",
       "mean          1.505040  ...    278.618723     87.813422    116.172205   \n",
       "std           1.118826  ...     94.657085     40.005617     55.137600   \n",
       "min           0.000000  ...    110.000000     15.000000     20.000000   \n",
       "25%           1.000000  ...    200.000000     55.000000     68.000000   \n",
       "50%           2.000000  ...    276.000000     88.000000    117.000000   \n",
       "75%           3.000000  ...    358.000000    121.000000    165.000000   \n",
       "max           3.000000  ...    450.000000    160.000000    210.000000   \n",
       "\n",
       "            d-dimer    Heart rate  HDL cholesterol  Charlson Index  \\\n",
       "count  10714.000000  10714.000000     10714.000000    10714.000000   \n",
       "mean     275.365876     74.847396        52.632737       20.028094   \n",
       "std       41.337432     14.074801        10.417234       11.828445   \n",
       "min      200.000000     50.000000        35.000000        0.000000   \n",
       "25%      242.000000     63.000000        44.000000       10.000000   \n",
       "50%      276.000000     74.847396        53.000000       20.000000   \n",
       "75%      309.000000     86.000000        62.000000       30.000000   \n",
       "max      350.000000    100.000000        70.000000       40.000000   \n",
       "\n",
       "       Blood Glucose      FT/month   Infect_Prob  \n",
       "count   10714.000000  10714.000000  10714.000000  \n",
       "mean        5.015027      1.004293     52.280680  \n",
       "std         1.399770      0.787267     10.674667  \n",
       "min         3.000000      0.000000     29.289600  \n",
       "25%         4.000000      0.000000     47.277426  \n",
       "50%         5.000000      1.000000     49.008389  \n",
       "75%         6.000000      2.000000     52.762313  \n",
       "max         7.000000      2.000000     97.632000  \n",
       "\n",
       "[8 rows x 21 columns]"
      ]
     },
     "execution_count": 52,
     "metadata": {},
     "output_type": "execute_result"
    }
   ],
   "source": [
    "train_data.describe()"
   ]
  },
  {
   "cell_type": "code",
   "execution_count": 53,
   "metadata": {},
   "outputs": [
    {
     "data": {
      "text/html": [
       "<div>\n",
       "<style scoped>\n",
       "    .dataframe tbody tr th:only-of-type {\n",
       "        vertical-align: middle;\n",
       "    }\n",
       "\n",
       "    .dataframe tbody tr th {\n",
       "        vertical-align: top;\n",
       "    }\n",
       "\n",
       "    .dataframe thead th {\n",
       "        text-align: right;\n",
       "    }\n",
       "</style>\n",
       "<table border=\"1\" class=\"dataframe\">\n",
       "  <thead>\n",
       "    <tr style=\"text-align: right;\">\n",
       "      <th></th>\n",
       "      <th>Region</th>\n",
       "      <th>Gender</th>\n",
       "      <th>Occupation</th>\n",
       "      <th>Mode_transport</th>\n",
       "      <th>cases/1M</th>\n",
       "      <th>Deaths/1M</th>\n",
       "      <th>comorbidity</th>\n",
       "      <th>Age</th>\n",
       "      <th>Coma score</th>\n",
       "      <th>Pulmonary score</th>\n",
       "      <th>cardiological pressure</th>\n",
       "      <th>Diuresis</th>\n",
       "      <th>Platelets</th>\n",
       "      <th>HBB</th>\n",
       "      <th>d-dimer</th>\n",
       "      <th>Heart rate</th>\n",
       "      <th>HDL cholesterol</th>\n",
       "      <th>Charlson Index</th>\n",
       "      <th>Blood Glucose</th>\n",
       "      <th>FT/month</th>\n",
       "    </tr>\n",
       "  </thead>\n",
       "  <tbody>\n",
       "    <tr>\n",
       "      <th>count</th>\n",
       "      <td>14498.000000</td>\n",
       "      <td>14498.000000</td>\n",
       "      <td>14498.000000</td>\n",
       "      <td>14498.000000</td>\n",
       "      <td>14498.000000</td>\n",
       "      <td>14498.000000</td>\n",
       "      <td>14498.000000</td>\n",
       "      <td>14498.000000</td>\n",
       "      <td>14498.000000</td>\n",
       "      <td>14498.000000</td>\n",
       "      <td>14498.000000</td>\n",
       "      <td>14498.000000</td>\n",
       "      <td>14498.000000</td>\n",
       "      <td>14498.000000</td>\n",
       "      <td>14498.000000</td>\n",
       "      <td>14498.000000</td>\n",
       "      <td>14498.000000</td>\n",
       "      <td>14498.000000</td>\n",
       "      <td>14498.000000</td>\n",
       "      <td>14498.000000</td>\n",
       "    </tr>\n",
       "    <tr>\n",
       "      <th>mean</th>\n",
       "      <td>2.577597</td>\n",
       "      <td>0.509863</td>\n",
       "      <td>4.020210</td>\n",
       "      <td>0.996827</td>\n",
       "      <td>5.886743</td>\n",
       "      <td>1.342737</td>\n",
       "      <td>1.486550</td>\n",
       "      <td>42.083667</td>\n",
       "      <td>8.985860</td>\n",
       "      <td>1.508829</td>\n",
       "      <td>1.495172</td>\n",
       "      <td>280.657608</td>\n",
       "      <td>86.886467</td>\n",
       "      <td>114.082977</td>\n",
       "      <td>274.667264</td>\n",
       "      <td>75.021727</td>\n",
       "      <td>52.417920</td>\n",
       "      <td>19.997448</td>\n",
       "      <td>4.995724</td>\n",
       "      <td>1.002966</td>\n",
       "    </tr>\n",
       "    <tr>\n",
       "      <th>std</th>\n",
       "      <td>1.680428</td>\n",
       "      <td>0.499920</td>\n",
       "      <td>2.593536</td>\n",
       "      <td>0.818572</td>\n",
       "      <td>4.651725</td>\n",
       "      <td>0.953566</td>\n",
       "      <td>1.114717</td>\n",
       "      <td>15.326426</td>\n",
       "      <td>3.754762</td>\n",
       "      <td>1.115320</td>\n",
       "      <td>1.111751</td>\n",
       "      <td>98.240677</td>\n",
       "      <td>42.194450</td>\n",
       "      <td>55.207974</td>\n",
       "      <td>43.706160</td>\n",
       "      <td>14.549680</td>\n",
       "      <td>10.341219</td>\n",
       "      <td>11.887840</td>\n",
       "      <td>1.416303</td>\n",
       "      <td>0.818952</td>\n",
       "    </tr>\n",
       "    <tr>\n",
       "      <th>min</th>\n",
       "      <td>0.000000</td>\n",
       "      <td>0.000000</td>\n",
       "      <td>0.000000</td>\n",
       "      <td>0.000000</td>\n",
       "      <td>0.000000</td>\n",
       "      <td>0.000000</td>\n",
       "      <td>0.000000</td>\n",
       "      <td>16.000000</td>\n",
       "      <td>3.000000</td>\n",
       "      <td>0.000000</td>\n",
       "      <td>0.000000</td>\n",
       "      <td>110.000000</td>\n",
       "      <td>15.000000</td>\n",
       "      <td>20.000000</td>\n",
       "      <td>200.000000</td>\n",
       "      <td>50.000000</td>\n",
       "      <td>35.000000</td>\n",
       "      <td>0.000000</td>\n",
       "      <td>3.000000</td>\n",
       "      <td>0.000000</td>\n",
       "    </tr>\n",
       "    <tr>\n",
       "      <th>25%</th>\n",
       "      <td>1.000000</td>\n",
       "      <td>0.000000</td>\n",
       "      <td>2.000000</td>\n",
       "      <td>0.000000</td>\n",
       "      <td>3.000000</td>\n",
       "      <td>1.000000</td>\n",
       "      <td>0.000000</td>\n",
       "      <td>29.000000</td>\n",
       "      <td>6.000000</td>\n",
       "      <td>1.000000</td>\n",
       "      <td>1.000000</td>\n",
       "      <td>195.000000</td>\n",
       "      <td>51.000000</td>\n",
       "      <td>66.000000</td>\n",
       "      <td>237.000000</td>\n",
       "      <td>63.000000</td>\n",
       "      <td>43.000000</td>\n",
       "      <td>10.000000</td>\n",
       "      <td>4.000000</td>\n",
       "      <td>0.000000</td>\n",
       "    </tr>\n",
       "    <tr>\n",
       "      <th>50%</th>\n",
       "      <td>3.000000</td>\n",
       "      <td>1.000000</td>\n",
       "      <td>4.000000</td>\n",
       "      <td>1.000000</td>\n",
       "      <td>4.000000</td>\n",
       "      <td>1.000000</td>\n",
       "      <td>1.000000</td>\n",
       "      <td>42.000000</td>\n",
       "      <td>9.000000</td>\n",
       "      <td>2.000000</td>\n",
       "      <td>1.000000</td>\n",
       "      <td>280.000000</td>\n",
       "      <td>87.000000</td>\n",
       "      <td>113.000000</td>\n",
       "      <td>274.000000</td>\n",
       "      <td>75.000000</td>\n",
       "      <td>52.000000</td>\n",
       "      <td>20.000000</td>\n",
       "      <td>5.000000</td>\n",
       "      <td>1.000000</td>\n",
       "    </tr>\n",
       "    <tr>\n",
       "      <th>75%</th>\n",
       "      <td>4.000000</td>\n",
       "      <td>1.000000</td>\n",
       "      <td>6.000000</td>\n",
       "      <td>2.000000</td>\n",
       "      <td>11.000000</td>\n",
       "      <td>2.000000</td>\n",
       "      <td>2.000000</td>\n",
       "      <td>55.000000</td>\n",
       "      <td>12.000000</td>\n",
       "      <td>3.000000</td>\n",
       "      <td>2.000000</td>\n",
       "      <td>366.000000</td>\n",
       "      <td>124.000000</td>\n",
       "      <td>162.000000</td>\n",
       "      <td>312.000000</td>\n",
       "      <td>88.000000</td>\n",
       "      <td>61.000000</td>\n",
       "      <td>30.000000</td>\n",
       "      <td>6.000000</td>\n",
       "      <td>2.000000</td>\n",
       "    </tr>\n",
       "    <tr>\n",
       "      <th>max</th>\n",
       "      <td>5.000000</td>\n",
       "      <td>1.000000</td>\n",
       "      <td>8.000000</td>\n",
       "      <td>2.000000</td>\n",
       "      <td>13.000000</td>\n",
       "      <td>3.000000</td>\n",
       "      <td>3.000000</td>\n",
       "      <td>68.000000</td>\n",
       "      <td>15.000000</td>\n",
       "      <td>3.000000</td>\n",
       "      <td>3.000000</td>\n",
       "      <td>450.000000</td>\n",
       "      <td>160.000000</td>\n",
       "      <td>210.000000</td>\n",
       "      <td>350.000000</td>\n",
       "      <td>100.000000</td>\n",
       "      <td>70.000000</td>\n",
       "      <td>40.000000</td>\n",
       "      <td>7.000000</td>\n",
       "      <td>2.000000</td>\n",
       "    </tr>\n",
       "  </tbody>\n",
       "</table>\n",
       "</div>"
      ],
      "text/plain": [
       "             Region        Gender    Occupation  Mode_transport      cases/1M  \\\n",
       "count  14498.000000  14498.000000  14498.000000    14498.000000  14498.000000   \n",
       "mean       2.577597      0.509863      4.020210        0.996827      5.886743   \n",
       "std        1.680428      0.499920      2.593536        0.818572      4.651725   \n",
       "min        0.000000      0.000000      0.000000        0.000000      0.000000   \n",
       "25%        1.000000      0.000000      2.000000        0.000000      3.000000   \n",
       "50%        3.000000      1.000000      4.000000        1.000000      4.000000   \n",
       "75%        4.000000      1.000000      6.000000        2.000000     11.000000   \n",
       "max        5.000000      1.000000      8.000000        2.000000     13.000000   \n",
       "\n",
       "          Deaths/1M   comorbidity           Age    Coma score  \\\n",
       "count  14498.000000  14498.000000  14498.000000  14498.000000   \n",
       "mean       1.342737      1.486550     42.083667      8.985860   \n",
       "std        0.953566      1.114717     15.326426      3.754762   \n",
       "min        0.000000      0.000000     16.000000      3.000000   \n",
       "25%        1.000000      0.000000     29.000000      6.000000   \n",
       "50%        1.000000      1.000000     42.000000      9.000000   \n",
       "75%        2.000000      2.000000     55.000000     12.000000   \n",
       "max        3.000000      3.000000     68.000000     15.000000   \n",
       "\n",
       "       Pulmonary score  cardiological pressure      Diuresis     Platelets  \\\n",
       "count     14498.000000            14498.000000  14498.000000  14498.000000   \n",
       "mean          1.508829                1.495172    280.657608     86.886467   \n",
       "std           1.115320                1.111751     98.240677     42.194450   \n",
       "min           0.000000                0.000000    110.000000     15.000000   \n",
       "25%           1.000000                1.000000    195.000000     51.000000   \n",
       "50%           2.000000                1.000000    280.000000     87.000000   \n",
       "75%           3.000000                2.000000    366.000000    124.000000   \n",
       "max           3.000000                3.000000    450.000000    160.000000   \n",
       "\n",
       "                HBB       d-dimer    Heart rate  HDL cholesterol  \\\n",
       "count  14498.000000  14498.000000  14498.000000     14498.000000   \n",
       "mean     114.082977    274.667264     75.021727        52.417920   \n",
       "std       55.207974     43.706160     14.549680        10.341219   \n",
       "min       20.000000    200.000000     50.000000        35.000000   \n",
       "25%       66.000000    237.000000     63.000000        43.000000   \n",
       "50%      113.000000    274.000000     75.000000        52.000000   \n",
       "75%      162.000000    312.000000     88.000000        61.000000   \n",
       "max      210.000000    350.000000    100.000000        70.000000   \n",
       "\n",
       "       Charlson Index  Blood Glucose      FT/month  \n",
       "count    14498.000000   14498.000000  14498.000000  \n",
       "mean        19.997448       4.995724      1.002966  \n",
       "std         11.887840       1.416303      0.818952  \n",
       "min          0.000000       3.000000      0.000000  \n",
       "25%         10.000000       4.000000      0.000000  \n",
       "50%         20.000000       5.000000      1.000000  \n",
       "75%         30.000000       6.000000      2.000000  \n",
       "max         40.000000       7.000000      2.000000  "
      ]
     },
     "execution_count": 53,
     "metadata": {},
     "output_type": "execute_result"
    }
   ],
   "source": [
    "test_data.describe()"
   ]
  },
  {
   "cell_type": "code",
   "execution_count": 54,
   "metadata": {},
   "outputs": [
    {
     "data": {
      "text/html": [
       "<div>\n",
       "<style scoped>\n",
       "    .dataframe tbody tr th:only-of-type {\n",
       "        vertical-align: middle;\n",
       "    }\n",
       "\n",
       "    .dataframe tbody tr th {\n",
       "        vertical-align: top;\n",
       "    }\n",
       "\n",
       "    .dataframe thead th {\n",
       "        text-align: right;\n",
       "    }\n",
       "</style>\n",
       "<table border=\"1\" class=\"dataframe\">\n",
       "  <thead>\n",
       "    <tr style=\"text-align: right;\">\n",
       "      <th></th>\n",
       "      <th>Region</th>\n",
       "      <th>Gender</th>\n",
       "      <th>Occupation</th>\n",
       "      <th>Mode_transport</th>\n",
       "      <th>cases/1M</th>\n",
       "      <th>Deaths/1M</th>\n",
       "      <th>comorbidity</th>\n",
       "      <th>Age</th>\n",
       "      <th>Coma score</th>\n",
       "      <th>Pulmonary score</th>\n",
       "      <th>...</th>\n",
       "      <th>Diuresis</th>\n",
       "      <th>Platelets</th>\n",
       "      <th>HBB</th>\n",
       "      <th>d-dimer</th>\n",
       "      <th>Heart rate</th>\n",
       "      <th>HDL cholesterol</th>\n",
       "      <th>Charlson Index</th>\n",
       "      <th>Blood Glucose</th>\n",
       "      <th>FT/month</th>\n",
       "      <th>Infect_Prob</th>\n",
       "    </tr>\n",
       "  </thead>\n",
       "  <tbody>\n",
       "    <tr>\n",
       "      <th>0</th>\n",
       "      <td>1</td>\n",
       "      <td>0</td>\n",
       "      <td>4</td>\n",
       "      <td>1</td>\n",
       "      <td>2</td>\n",
       "      <td>0</td>\n",
       "      <td>2</td>\n",
       "      <td>68</td>\n",
       "      <td>8</td>\n",
       "      <td>3</td>\n",
       "      <td>...</td>\n",
       "      <td>441.0</td>\n",
       "      <td>154.0</td>\n",
       "      <td>93.0</td>\n",
       "      <td>233.0</td>\n",
       "      <td>82.0</td>\n",
       "      <td>58.0</td>\n",
       "      <td>27</td>\n",
       "      <td>7</td>\n",
       "      <td>2.0</td>\n",
       "      <td>49.135010</td>\n",
       "    </tr>\n",
       "    <tr>\n",
       "      <th>1</th>\n",
       "      <td>1</td>\n",
       "      <td>0</td>\n",
       "      <td>4</td>\n",
       "      <td>2</td>\n",
       "      <td>2</td>\n",
       "      <td>0</td>\n",
       "      <td>1</td>\n",
       "      <td>64</td>\n",
       "      <td>15</td>\n",
       "      <td>0</td>\n",
       "      <td>...</td>\n",
       "      <td>276.0</td>\n",
       "      <td>121.0</td>\n",
       "      <td>56.0</td>\n",
       "      <td>328.0</td>\n",
       "      <td>89.0</td>\n",
       "      <td>68.0</td>\n",
       "      <td>5</td>\n",
       "      <td>6</td>\n",
       "      <td>1.0</td>\n",
       "      <td>51.147880</td>\n",
       "    </tr>\n",
       "    <tr>\n",
       "      <th>2</th>\n",
       "      <td>1</td>\n",
       "      <td>0</td>\n",
       "      <td>1</td>\n",
       "      <td>1</td>\n",
       "      <td>2</td>\n",
       "      <td>0</td>\n",
       "      <td>3</td>\n",
       "      <td>19</td>\n",
       "      <td>13</td>\n",
       "      <td>2</td>\n",
       "      <td>...</td>\n",
       "      <td>416.0</td>\n",
       "      <td>124.0</td>\n",
       "      <td>137.0</td>\n",
       "      <td>213.0</td>\n",
       "      <td>77.0</td>\n",
       "      <td>43.0</td>\n",
       "      <td>40</td>\n",
       "      <td>6</td>\n",
       "      <td>1.0</td>\n",
       "      <td>73.224000</td>\n",
       "    </tr>\n",
       "    <tr>\n",
       "      <th>3</th>\n",
       "      <td>1</td>\n",
       "      <td>0</td>\n",
       "      <td>3</td>\n",
       "      <td>0</td>\n",
       "      <td>2</td>\n",
       "      <td>0</td>\n",
       "      <td>0</td>\n",
       "      <td>33</td>\n",
       "      <td>9</td>\n",
       "      <td>1</td>\n",
       "      <td>...</td>\n",
       "      <td>410.0</td>\n",
       "      <td>98.0</td>\n",
       "      <td>167.0</td>\n",
       "      <td>275.0</td>\n",
       "      <td>64.0</td>\n",
       "      <td>60.0</td>\n",
       "      <td>27</td>\n",
       "      <td>7</td>\n",
       "      <td>1.0</td>\n",
       "      <td>48.779225</td>\n",
       "    </tr>\n",
       "    <tr>\n",
       "      <th>4</th>\n",
       "      <td>1</td>\n",
       "      <td>0</td>\n",
       "      <td>6</td>\n",
       "      <td>0</td>\n",
       "      <td>2</td>\n",
       "      <td>0</td>\n",
       "      <td>1</td>\n",
       "      <td>23</td>\n",
       "      <td>7</td>\n",
       "      <td>3</td>\n",
       "      <td>...</td>\n",
       "      <td>390.0</td>\n",
       "      <td>21.0</td>\n",
       "      <td>153.0</td>\n",
       "      <td>331.0</td>\n",
       "      <td>71.0</td>\n",
       "      <td>64.0</td>\n",
       "      <td>32</td>\n",
       "      <td>7</td>\n",
       "      <td>1.0</td>\n",
       "      <td>87.868800</td>\n",
       "    </tr>\n",
       "  </tbody>\n",
       "</table>\n",
       "<p>5 rows × 21 columns</p>\n",
       "</div>"
      ],
      "text/plain": [
       "   Region  Gender  Occupation  Mode_transport  cases/1M  Deaths/1M  \\\n",
       "0       1       0           4               1         2          0   \n",
       "1       1       0           4               2         2          0   \n",
       "2       1       0           1               1         2          0   \n",
       "3       1       0           3               0         2          0   \n",
       "4       1       0           6               0         2          0   \n",
       "\n",
       "   comorbidity  Age  Coma score  Pulmonary score  ...  Diuresis  Platelets  \\\n",
       "0            2   68           8                3  ...     441.0      154.0   \n",
       "1            1   64          15                0  ...     276.0      121.0   \n",
       "2            3   19          13                2  ...     416.0      124.0   \n",
       "3            0   33           9                1  ...     410.0       98.0   \n",
       "4            1   23           7                3  ...     390.0       21.0   \n",
       "\n",
       "     HBB  d-dimer  Heart rate  HDL cholesterol  Charlson Index  Blood Glucose  \\\n",
       "0   93.0    233.0        82.0             58.0              27              7   \n",
       "1   56.0    328.0        89.0             68.0               5              6   \n",
       "2  137.0    213.0        77.0             43.0              40              6   \n",
       "3  167.0    275.0        64.0             60.0              27              7   \n",
       "4  153.0    331.0        71.0             64.0              32              7   \n",
       "\n",
       "   FT/month  Infect_Prob  \n",
       "0       2.0    49.135010  \n",
       "1       1.0    51.147880  \n",
       "2       1.0    73.224000  \n",
       "3       1.0    48.779225  \n",
       "4       1.0    87.868800  \n",
       "\n",
       "[5 rows x 21 columns]"
      ]
     },
     "execution_count": 54,
     "metadata": {},
     "output_type": "execute_result"
    }
   ],
   "source": [
    "train_data.head()"
   ]
  },
  {
   "cell_type": "markdown",
   "metadata": {},
   "source": [
    "Now I am going to split the Train_dataset in to train and test data so that I can measure the accuracy that I am getting. Then I am going to use the same model on the actual training and test data.\n",
    "Here I am using polynomial regression and also random forest algorithms. \n",
    "Of those two regression algorithms I found that random forest algorithm is giving me good results( around 91% accuracy).\n",
    "So I am going to use the random forest model on the actual data and find the probability of infected persons on Test_dataset that was provided."
   ]
  },
  {
   "cell_type": "code",
   "execution_count": 55,
   "metadata": {},
   "outputs": [],
   "source": [
    "#splitting the data into training and testing\n",
    "sc = StandardScaler()\n",
    "X = sc.fit_transform(train_data.iloc[:,0:-1])\n",
    "y = train_data.iloc[:,-1].values\n",
    "from sklearn.model_selection import train_test_split\n",
    "X_train,X_test,y_train,y_test = train_test_split(X,y,test_size = 0.2,random_state=0)"
   ]
  },
  {
   "cell_type": "code",
   "execution_count": 56,
   "metadata": {},
   "outputs": [
    {
     "data": {
      "text/plain": [
       "(8571, 20)"
      ]
     },
     "execution_count": 56,
     "metadata": {},
     "output_type": "execute_result"
    }
   ],
   "source": [
    "X_train.shape"
   ]
  },
  {
   "cell_type": "code",
   "execution_count": 57,
   "metadata": {},
   "outputs": [
    {
     "data": {
      "text/plain": [
       "LinearRegression(copy_X=True, fit_intercept=True, n_jobs=None, normalize=True)"
      ]
     },
     "execution_count": 57,
     "metadata": {},
     "output_type": "execute_result"
    }
   ],
   "source": [
    "from sklearn.linear_model import LinearRegression\n",
    "from sklearn.preprocessing import PolynomialFeatures\n",
    "poly_reg = PolynomialFeatures(degree=4)\n",
    "poly_reg.fit(X_train,y_train)\n",
    "lin_reg = LinearRegression(normalize=True)\n",
    "lin_reg.fit(X_train,y_train)"
   ]
  },
  {
   "cell_type": "code",
   "execution_count": 58,
   "metadata": {},
   "outputs": [
    {
     "data": {
      "text/plain": [
       "array([54.41561071, 54.80577886, 54.8649677 , ..., 55.40073852,\n",
       "       46.05785532, 48.63242658])"
      ]
     },
     "execution_count": 58,
     "metadata": {},
     "output_type": "execute_result"
    }
   ],
   "source": [
    "y_pred=lin_reg.predict(X_test)\n",
    "y_pred"
   ]
  },
  {
   "cell_type": "code",
   "execution_count": 59,
   "metadata": {},
   "outputs": [
    {
     "name": "stdout",
     "output_type": "stream",
     "text": [
      "Average error:  6.37\n"
     ]
    }
   ],
   "source": [
    "# Baseline errors, and display average baseline error\n",
    "errors = abs(y_pred -y_test)\n",
    "print('Average error: ', round(np.mean(errors), 2))\n"
   ]
  },
  {
   "cell_type": "code",
   "execution_count": 60,
   "metadata": {},
   "outputs": [
    {
     "name": "stdout",
     "output_type": "stream",
     "text": [
      "Accuracy on Training data: 88.36153277954475\n"
     ]
    }
   ],
   "source": [
    "#mean average percentage error\n",
    "mape = 100*(errors/y_test)\n",
    "accuracy = 100-np.mean(mape)\n",
    "print('Accuracy on Training data:',accuracy)\n"
   ]
  },
  {
   "cell_type": "code",
   "execution_count": 61,
   "metadata": {
    "scrolled": true
   },
   "outputs": [
    {
     "data": {
      "text/plain": [
       "RandomForestRegressor(bootstrap=True, criterion='mse', max_depth=None,\n",
       "                      max_features='auto', max_leaf_nodes=None,\n",
       "                      min_impurity_decrease=0.0, min_impurity_split=None,\n",
       "                      min_samples_leaf=1, min_samples_split=2,\n",
       "                      min_weight_fraction_leaf=0.0, n_estimators=1000,\n",
       "                      n_jobs=None, oob_score=False, random_state=42, verbose=0,\n",
       "                      warm_start=False)"
      ]
     },
     "execution_count": 61,
     "metadata": {},
     "output_type": "execute_result"
    }
   ],
   "source": [
    "#using random forest \n",
    "from sklearn.ensemble import RandomForestRegressor\n",
    "rf = RandomForestRegressor(n_estimators=1000,random_state=42)\n",
    "rf.fit(X_train,y_train)"
   ]
  },
  {
   "cell_type": "code",
   "execution_count": 62,
   "metadata": {},
   "outputs": [
    {
     "data": {
      "text/plain": [
       "array([53.42098199, 52.87298828, 51.34422163, ..., 56.20771872,\n",
       "       46.4285939 , 49.20628743])"
      ]
     },
     "execution_count": 62,
     "metadata": {},
     "output_type": "execute_result"
    }
   ],
   "source": [
    "y_pred = rf.predict(X_test)\n",
    "y_pred"
   ]
  },
  {
   "cell_type": "code",
   "execution_count": 63,
   "metadata": {},
   "outputs": [
    {
     "name": "stdout",
     "output_type": "stream",
     "text": [
      "Average error:  4.75\n",
      "Accuracy on Training data: 90.99058045863528\n"
     ]
    }
   ],
   "source": [
    "errors = abs(y_pred -y_test)\n",
    "print('Average error: ', round(np.mean(errors), 2))\n",
    "mape = 100*(errors/y_test)\n",
    "accuracy = 100-np.mean(mape)\n",
    "print('Accuracy on Training data:',accuracy)"
   ]
  },
  {
   "cell_type": "code",
   "execution_count": 64,
   "metadata": {},
   "outputs": [
    {
     "data": {
      "text/html": [
       "<div>\n",
       "<style scoped>\n",
       "    .dataframe tbody tr th:only-of-type {\n",
       "        vertical-align: middle;\n",
       "    }\n",
       "\n",
       "    .dataframe tbody tr th {\n",
       "        vertical-align: top;\n",
       "    }\n",
       "\n",
       "    .dataframe thead th {\n",
       "        text-align: right;\n",
       "    }\n",
       "</style>\n",
       "<table border=\"1\" class=\"dataframe\">\n",
       "  <thead>\n",
       "    <tr style=\"text-align: right;\">\n",
       "      <th></th>\n",
       "      <th>y_pred</th>\n",
       "      <th>y_test</th>\n",
       "    </tr>\n",
       "  </thead>\n",
       "  <tbody>\n",
       "    <tr>\n",
       "      <th>0</th>\n",
       "      <td>53.420982</td>\n",
       "      <td>53.072883</td>\n",
       "    </tr>\n",
       "    <tr>\n",
       "      <th>1</th>\n",
       "      <td>52.872988</td>\n",
       "      <td>52.406560</td>\n",
       "    </tr>\n",
       "    <tr>\n",
       "      <th>2</th>\n",
       "      <td>51.344222</td>\n",
       "      <td>47.567603</td>\n",
       "    </tr>\n",
       "    <tr>\n",
       "      <th>3</th>\n",
       "      <td>48.414968</td>\n",
       "      <td>48.914593</td>\n",
       "    </tr>\n",
       "    <tr>\n",
       "      <th>4</th>\n",
       "      <td>48.839169</td>\n",
       "      <td>49.432939</td>\n",
       "    </tr>\n",
       "    <tr>\n",
       "      <th>5</th>\n",
       "      <td>46.457767</td>\n",
       "      <td>46.221850</td>\n",
       "    </tr>\n",
       "    <tr>\n",
       "      <th>6</th>\n",
       "      <td>47.647767</td>\n",
       "      <td>47.895974</td>\n",
       "    </tr>\n",
       "    <tr>\n",
       "      <th>7</th>\n",
       "      <td>66.237454</td>\n",
       "      <td>76.152960</td>\n",
       "    </tr>\n",
       "    <tr>\n",
       "      <th>8</th>\n",
       "      <td>65.919174</td>\n",
       "      <td>82.010880</td>\n",
       "    </tr>\n",
       "    <tr>\n",
       "      <th>9</th>\n",
       "      <td>54.102315</td>\n",
       "      <td>47.764298</td>\n",
       "    </tr>\n",
       "  </tbody>\n",
       "</table>\n",
       "</div>"
      ],
      "text/plain": [
       "      y_pred     y_test\n",
       "0  53.420982  53.072883\n",
       "1  52.872988  52.406560\n",
       "2  51.344222  47.567603\n",
       "3  48.414968  48.914593\n",
       "4  48.839169  49.432939\n",
       "5  46.457767  46.221850\n",
       "6  47.647767  47.895974\n",
       "7  66.237454  76.152960\n",
       "8  65.919174  82.010880\n",
       "9  54.102315  47.764298"
      ]
     },
     "execution_count": 64,
     "metadata": {},
     "output_type": "execute_result"
    }
   ],
   "source": [
    "pd.concat([pd.DataFrame(y_pred,columns = ['y_pred']),pd.DataFrame(y_test,columns = ['y_test'])],axis =1).head(10)"
   ]
  },
  {
   "cell_type": "code",
   "execution_count": 65,
   "metadata": {},
   "outputs": [
    {
     "data": {
      "image/png": "[encoded data removed]",
      "text/plain": [
       "<Figure size 432x288 with 1 Axes>"
      ]
     },
     "metadata": {},
     "output_type": "display_data"
    }
   ],
   "source": [
    "# Set the style\n",
    "importances = list(rf.feature_importances_)\n",
    "plt.style.use('fivethirtyeight')\n",
    "x_values = list(range(len(importances)))\n",
    "plt.bar(x_values, importances, orientation = 'vertical')# Tick labels for x axis\n",
    "plt.xticks(x_values, train_data.columns.tolist(), rotation='vertical')# Axis labels and title\n",
    "plt.ylabel('Importance'); plt.xlabel('Variable'); plt.title('Variable Importances');"
   ]
  },
  {
   "cell_type": "code",
   "execution_count": 74,
   "metadata": {
    "scrolled": true
   },
   "outputs": [
    {
     "data": {
      "image/png": "[encoded data removed]",
      "text/plain": [
       "<Figure size 792x288 with 1 Axes>"
      ]
     },
     "metadata": {},
     "output_type": "display_data"
    }
   ],
   "source": [
    "sns.set(rc={'figure.figsize':(11, 4)})\n",
    "df['Diuresis'].plot(linewidth=0.5);\n",
    "# df.Diuresis"
   ]
  },
  {
   "cell_type": "markdown",
   "metadata": {},
   "source": [
    "If we observe the plot above, the diuresis column is fluctuating between 100 and 450 according to the data given in the train_dataset.xlsx file on 20th March. So based upon my analysis, this same fluctuation will be there in the days that are yet to come. \n"
   ]
  },
  {
   "cell_type": "markdown",
   "metadata": {},
   "source": [
    "Now we have to train random forest model on our actual training data "
   ]
  },
  {
   "cell_type": "code",
   "execution_count": 76,
   "metadata": {},
   "outputs": [
    {
     "data": {
      "text/plain": [
       "RandomForestRegressor(bootstrap=True, criterion='mse', max_depth=None,\n",
       "                      max_features='auto', max_leaf_nodes=None,\n",
       "                      min_impurity_decrease=0.0, min_impurity_split=None,\n",
       "                      min_samples_leaf=1, min_samples_split=2,\n",
       "                      min_weight_fraction_leaf=0.0, n_estimators=1000,\n",
       "                      n_jobs=None, oob_score=False, random_state=42, verbose=0,\n",
       "                      warm_start=False)"
      ]
     },
     "execution_count": 76,
     "metadata": {},
     "output_type": "execute_result"
    }
   ],
   "source": [
    "rf = RandomForestRegressor(n_estimators=1000,random_state=42)\n",
    "rf.fit(ACTX_train,ACTy_train)"
   ]
  },
  {
   "cell_type": "code",
   "execution_count": 80,
   "metadata": {},
   "outputs": [
    {
     "data": {
      "text/plain": [
       "(14498,)"
      ]
     },
     "execution_count": 80,
     "metadata": {},
     "output_type": "execute_result"
    }
   ],
   "source": [
    "ACTy_pred = rf.predict(ACTX_test)\n",
    "ACTy_pred.shape"
   ]
  },
  {
   "cell_type": "code",
   "execution_count": 84,
   "metadata": {},
   "outputs": [
    {
     "data": {
      "text/html": [
       "<div>\n",
       "<style scoped>\n",
       "    .dataframe tbody tr th:only-of-type {\n",
       "        vertical-align: middle;\n",
       "    }\n",
       "\n",
       "    .dataframe tbody tr th {\n",
       "        vertical-align: top;\n",
       "    }\n",
       "\n",
       "    .dataframe thead th {\n",
       "        text-align: right;\n",
       "    }\n",
       "</style>\n",
       "<table border=\"1\" class=\"dataframe\">\n",
       "  <thead>\n",
       "    <tr style=\"text-align: right;\">\n",
       "      <th></th>\n",
       "      <th>ACTy_pred</th>\n",
       "    </tr>\n",
       "  </thead>\n",
       "  <tbody>\n",
       "    <tr>\n",
       "      <th>0</th>\n",
       "      <td>49.115666</td>\n",
       "    </tr>\n",
       "    <tr>\n",
       "      <th>1</th>\n",
       "      <td>49.379268</td>\n",
       "    </tr>\n",
       "    <tr>\n",
       "      <th>2</th>\n",
       "      <td>47.869336</td>\n",
       "    </tr>\n",
       "    <tr>\n",
       "      <th>3</th>\n",
       "      <td>48.428660</td>\n",
       "    </tr>\n",
       "    <tr>\n",
       "      <th>4</th>\n",
       "      <td>49.168778</td>\n",
       "    </tr>\n",
       "    <tr>\n",
       "      <th>5</th>\n",
       "      <td>48.113454</td>\n",
       "    </tr>\n",
       "    <tr>\n",
       "      <th>6</th>\n",
       "      <td>48.834034</td>\n",
       "    </tr>\n",
       "    <tr>\n",
       "      <th>7</th>\n",
       "      <td>48.584224</td>\n",
       "    </tr>\n",
       "    <tr>\n",
       "      <th>8</th>\n",
       "      <td>48.791238</td>\n",
       "    </tr>\n",
       "    <tr>\n",
       "      <th>9</th>\n",
       "      <td>48.553858</td>\n",
       "    </tr>\n",
       "  </tbody>\n",
       "</table>\n",
       "</div>"
      ],
      "text/plain": [
       "   ACTy_pred\n",
       "0  49.115666\n",
       "1  49.379268\n",
       "2  47.869336\n",
       "3  48.428660\n",
       "4  49.168778\n",
       "5  48.113454\n",
       "6  48.834034\n",
       "7  48.584224\n",
       "8  48.791238\n",
       "9  48.553858"
      ]
     },
     "execution_count": 84,
     "metadata": {},
     "output_type": "execute_result"
    }
   ],
   "source": [
    "pd.DataFrame(ACTy_pred,columns = ['ACTy_pred']).head(10)"
   ]
  },
  {
   "cell_type": "code",
   "execution_count": 88,
   "metadata": {},
   "outputs": [
    {
     "data": {
      "text/html": [
       "<div>\n",
       "<style scoped>\n",
       "    .dataframe tbody tr th:only-of-type {\n",
       "        vertical-align: middle;\n",
       "    }\n",
       "\n",
       "    .dataframe tbody tr th {\n",
       "        vertical-align: top;\n",
       "    }\n",
       "\n",
       "    .dataframe thead th {\n",
       "        text-align: right;\n",
       "    }\n",
       "</style>\n",
       "<table border=\"1\" class=\"dataframe\">\n",
       "  <thead>\n",
       "    <tr style=\"text-align: right;\">\n",
       "      <th></th>\n",
       "      <th>people_ID</th>\n",
       "      <th>Infect_Prob</th>\n",
       "    </tr>\n",
       "  </thead>\n",
       "  <tbody>\n",
       "    <tr>\n",
       "      <th>0</th>\n",
       "      <td>5942</td>\n",
       "      <td>49.115666</td>\n",
       "    </tr>\n",
       "    <tr>\n",
       "      <th>1</th>\n",
       "      <td>18664</td>\n",
       "      <td>49.379268</td>\n",
       "    </tr>\n",
       "    <tr>\n",
       "      <th>2</th>\n",
       "      <td>5603</td>\n",
       "      <td>47.869336</td>\n",
       "    </tr>\n",
       "    <tr>\n",
       "      <th>3</th>\n",
       "      <td>5649</td>\n",
       "      <td>48.428660</td>\n",
       "    </tr>\n",
       "    <tr>\n",
       "      <th>4</th>\n",
       "      <td>5099</td>\n",
       "      <td>49.168778</td>\n",
       "    </tr>\n",
       "  </tbody>\n",
       "</table>\n",
       "</div>"
      ],
      "text/plain": [
       "   people_ID  Infect_Prob\n",
       "0       5942    49.115666\n",
       "1      18664    49.379268\n",
       "2       5603    47.869336\n",
       "3       5649    48.428660\n",
       "4       5099    49.168778"
      ]
     },
     "execution_count": 88,
     "metadata": {},
     "output_type": "execute_result"
    }
   ],
   "source": [
    "result = pd.concat([test_people_id,pd.DataFrame(ACTy_pred,columns=['Infect_Prob'])],axis = 1)\n",
    "result.head()"
   ]
  },
  {
   "cell_type": "code",
   "execution_count": 90,
   "metadata": {},
   "outputs": [],
   "source": [
    "result.to_csv('result.csv',index=False)"
   ]
  },
  {
   "cell_type": "code",
   "execution_count": null,
   "metadata": {},
   "outputs": [],
   "source": []
  }
 ],
 "metadata": {
  "kernelspec": {
   "display_name": "Python 3",
   "language": "python",
   "name": "python3"
  },
  "language_info": {
   "codemirror_mode": {
    "name": "ipython",
    "version": 3
   },
   "file_extension": ".py",
   "mimetype": "text/x-python",
   "name": "python",
   "nbconvert_exporter": "python",
   "pygments_lexer": "ipython3",
   "version": "3.7.3"
  }
 },
 "nbformat": 4,
 "nbformat_minor": 2
}
